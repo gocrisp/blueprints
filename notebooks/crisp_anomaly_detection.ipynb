{
 "cells": [
  {
   "cell_type": "markdown",
   "id": "a0e5b6b9",
   "metadata": {},
   "source": [
    "![Crisp](img/logo.png)\n",
    "# <img src=\"img/anomaly_detection.svg\" alt=\"icon\" width=\"40\"/> Anomaly Detection on Sales and Inventory Data\n",
    "\n",
    "[![Open in Colab](https://img.shields.io/badge/Open%20in-Colab-orange?logo=google-colab&style=for-the-badge)](https://colab.research.google.com/github/gocrisp/blueprints/blob/main/notebooks/crisp_anomaly_detection.ipynb)\n",
    "[![Open in Vertex AI](https://img.shields.io/badge/Open%20in-Vertex%20AI%20Workbench-brightgreen?logo=google-cloud&style=for-the-badge)](https://console.cloud.google.com/vertex-ai/notebooks/deploy-notebook?download_url=https://raw.githubusercontent.com/gocrisp/blueprints/main/notebooks/crisp_anomaly_detection.ipynb)\n",
    "[![Open in Databricks](https://img.shields.io/badge/Try-databricks-red?logo=databricks&style=for-the-badge)](https://www.databricks.com/try-databricks)\n",
    "[![View on GitHub](https://img.shields.io/badge/View%20on-GitHub-lightgrey?logo=github&style=for-the-badge)](https://github.com/gocrisp/blueprints/blob/main/notebooks/crisp_anomaly_detection.ipynb)\n",
    "\n",
    "> To deploy a notebook in Databricks:\n",
    "> 1. Open your workspace and navigate to the folder where you want to import the notebook.\n",
    "> 2. Click the triple-dot icon (next to the Share button).\n",
    "> 3. Select Import and choose URL as the import method.\n",
    "> 4. Paste the notebook's URL and click Import to complete the process.\n",
    "\n",
    "Detecting anomalies in your data can help you identify unexpected patterns like stockouts, sales spikes, or pricing errors, so you can take action to improve inefficiencies, capitalize on gains, or address problems. This notebook demonstrates how to perform naive outlier detection on sales and inventory data using z-scores. We will identify data points that are considered anomalies based on the criterion that their z-score exceeds |3.5| within time windows of sufficient size."
   ]
  },
  {
   "cell_type": "markdown",
   "id": "fde1d3d22790d866",
   "metadata": {},
   "source": [
    "## Set the required environment variables"
   ]
  },
  {
   "cell_type": "code",
   "id": "d7e8f597480edc2a",
   "metadata": {
    "ExecuteTime": {
     "end_time": "2025-01-15T16:56:19.086338Z",
     "start_time": "2025-01-15T16:56:19.084850Z"
    }
   },
   "source": [
    "import os\n",
    "\n",
    "os.environ[\"ACCOUNT_ID\"] = \"999999\"\n",
    "# os.environ[\"CONNECTOR_ID\"] = \"\" # optional\n",
    "\n",
    "fact_sales_table = \"exp_harmonized_retailer_fact_sales\"\n",
    "fact_inventory_table = \"exp_harmonized_retailer_fact_inventory_store\"\n",
    "\n",
    "retailer = \"target\""
   ],
   "outputs": [],
   "execution_count": 1
  },
  {
   "cell_type": "markdown",
   "id": "6f747ab78b09f2f9",
   "metadata": {},
   "source": [
    "### Run Crisp common\n",
    "\n",
    "This notebook uses the [crisp_common.ipynb](./crisp_common.ipynb) notebook to load the common functions and variables. The `crisp_common.ipynb` notebook contains the common functions and variables that are used across Crisp notebooks."
   ]
  },
  {
   "cell_type": "code",
   "id": "27a56c2047734eae",
   "metadata": {
    "ExecuteTime": {
     "end_time": "2025-01-15T16:56:20.759948Z",
     "start_time": "2025-01-15T16:56:19.091313Z"
    }
   },
   "source": [
    "import os\n",
    "\n",
    "if not os.path.exists(\"crisp_common.ipynb\"):\n",
    "    print(\"Downloading crisp_common.ipynb\")\n",
    "    !wget https://raw.githubusercontent.com/gocrisp/blueprints/main/notebooks/crisp_common.ipynb -O crisp_common.ipynb\n",
    "else:\n",
    "    print(\"crisp_common.ipynb already exists\")\n",
    "\n",
    "%run crisp_common.ipynb"
   ],
   "outputs": [
    {
     "name": "stdout",
     "output_type": "stream",
     "text": [
      "crisp_common.ipynb already exists\n",
      "Environment type: local\n",
      "Requirement already satisfied: tornado==6.4.1 in /Users/pcejrowski/.virtualenvs/analytics-blueprints-public-bxjb/lib/python3.11/site-packages (6.4.1)\r\n",
      "Requirement already satisfied: pandas<3.0.0,>=2.2.2 in /Users/pcejrowski/.virtualenvs/analytics-blueprints-public-bxjb/lib/python3.11/site-packages (2.2.3)\r\n",
      "Requirement already satisfied: matplotlib==3.9.1 in /Users/pcejrowski/.virtualenvs/analytics-blueprints-public-bxjb/lib/python3.11/site-packages (3.9.1)\r\n",
      "Requirement already satisfied: scikit-learn<2.0.0,>=1.5.1 in /Users/pcejrowski/.virtualenvs/analytics-blueprints-public-bxjb/lib/python3.11/site-packages (1.5.2)\r\n",
      "Requirement already satisfied: seaborn<0.14.0,>=0.13.2 in /Users/pcejrowski/.virtualenvs/analytics-blueprints-public-bxjb/lib/python3.11/site-packages (0.13.2)\r\n",
      "Requirement already satisfied: plotly<6.0.0,>=5.23.0 in /Users/pcejrowski/.virtualenvs/analytics-blueprints-public-bxjb/lib/python3.11/site-packages (5.24.1)\r\n",
      "Requirement already satisfied: openai>=1.44.1 in /Users/pcejrowski/.virtualenvs/analytics-blueprints-public-bxjb/lib/python3.11/site-packages (1.54.3)\r\n",
      "Requirement already satisfied: langchain-openai>=0.2.1 in /Users/pcejrowski/.virtualenvs/analytics-blueprints-public-bxjb/lib/python3.11/site-packages (0.2.6)\r\n",
      "Requirement already satisfied: folium>=0.17.0 in /Users/pcejrowski/.virtualenvs/analytics-blueprints-public-bxjb/lib/python3.11/site-packages (0.18.0)\r\n",
      "Requirement already satisfied: ipywidgets>=8.1.5 in /Users/pcejrowski/.virtualenvs/analytics-blueprints-public-bxjb/lib/python3.11/site-packages (8.1.5)\r\n",
      "Requirement already satisfied: contourpy>=1.0.1 in /Users/pcejrowski/.virtualenvs/analytics-blueprints-public-bxjb/lib/python3.11/site-packages (from matplotlib==3.9.1) (1.3.0)\r\n",
      "Requirement already satisfied: cycler>=0.10 in /Users/pcejrowski/.virtualenvs/analytics-blueprints-public-bxjb/lib/python3.11/site-packages (from matplotlib==3.9.1) (0.12.1)\r\n",
      "Requirement already satisfied: fonttools>=4.22.0 in /Users/pcejrowski/.virtualenvs/analytics-blueprints-public-bxjb/lib/python3.11/site-packages (from matplotlib==3.9.1) (4.54.1)\r\n",
      "Requirement already satisfied: kiwisolver>=1.3.1 in /Users/pcejrowski/.virtualenvs/analytics-blueprints-public-bxjb/lib/python3.11/site-packages (from matplotlib==3.9.1) (1.4.7)\r\n",
      "Requirement already satisfied: numpy>=1.23 in /Users/pcejrowski/.virtualenvs/analytics-blueprints-public-bxjb/lib/python3.11/site-packages (from matplotlib==3.9.1) (1.26.4)\r\n",
      "Requirement already satisfied: packaging>=20.0 in /Users/pcejrowski/.virtualenvs/analytics-blueprints-public-bxjb/lib/python3.11/site-packages (from matplotlib==3.9.1) (24.2)\r\n",
      "Requirement already satisfied: pillow>=8 in /Users/pcejrowski/.virtualenvs/analytics-blueprints-public-bxjb/lib/python3.11/site-packages (from matplotlib==3.9.1) (11.0.0)\r\n",
      "Requirement already satisfied: pyparsing>=2.3.1 in /Users/pcejrowski/.virtualenvs/analytics-blueprints-public-bxjb/lib/python3.11/site-packages (from matplotlib==3.9.1) (3.2.0)\r\n",
      "Requirement already satisfied: python-dateutil>=2.7 in /Users/pcejrowski/.virtualenvs/analytics-blueprints-public-bxjb/lib/python3.11/site-packages (from matplotlib==3.9.1) (2.9.0.post0)\r\n",
      "Requirement already satisfied: pytz>=2020.1 in /Users/pcejrowski/.virtualenvs/analytics-blueprints-public-bxjb/lib/python3.11/site-packages (from pandas<3.0.0,>=2.2.2) (2024.2)\r\n",
      "Requirement already satisfied: tzdata>=2022.7 in /Users/pcejrowski/.virtualenvs/analytics-blueprints-public-bxjb/lib/python3.11/site-packages (from pandas<3.0.0,>=2.2.2) (2024.2)\r\n",
      "Requirement already satisfied: scipy>=1.6.0 in /Users/pcejrowski/.virtualenvs/analytics-blueprints-public-bxjb/lib/python3.11/site-packages (from scikit-learn<2.0.0,>=1.5.1) (1.14.1)\r\n",
      "Requirement already satisfied: joblib>=1.2.0 in /Users/pcejrowski/.virtualenvs/analytics-blueprints-public-bxjb/lib/python3.11/site-packages (from scikit-learn<2.0.0,>=1.5.1) (1.4.2)\r\n",
      "Requirement already satisfied: threadpoolctl>=3.1.0 in /Users/pcejrowski/.virtualenvs/analytics-blueprints-public-bxjb/lib/python3.11/site-packages (from scikit-learn<2.0.0,>=1.5.1) (3.5.0)\r\n",
      "Requirement already satisfied: tenacity>=6.2.0 in /Users/pcejrowski/.virtualenvs/analytics-blueprints-public-bxjb/lib/python3.11/site-packages (from plotly<6.0.0,>=5.23.0) (9.0.0)\r\n",
      "Requirement already satisfied: anyio<5,>=3.5.0 in /Users/pcejrowski/.virtualenvs/analytics-blueprints-public-bxjb/lib/python3.11/site-packages (from openai>=1.44.1) (4.6.2.post1)\r\n",
      "Requirement already satisfied: distro<2,>=1.7.0 in /Users/pcejrowski/.virtualenvs/analytics-blueprints-public-bxjb/lib/python3.11/site-packages (from openai>=1.44.1) (1.9.0)\r\n",
      "Requirement already satisfied: httpx<1,>=0.23.0 in /Users/pcejrowski/.virtualenvs/analytics-blueprints-public-bxjb/lib/python3.11/site-packages (from openai>=1.44.1) (0.27.2)\r\n",
      "Requirement already satisfied: jiter<1,>=0.4.0 in /Users/pcejrowski/.virtualenvs/analytics-blueprints-public-bxjb/lib/python3.11/site-packages (from openai>=1.44.1) (0.7.0)\r\n",
      "Requirement already satisfied: pydantic<3,>=1.9.0 in /Users/pcejrowski/.virtualenvs/analytics-blueprints-public-bxjb/lib/python3.11/site-packages (from openai>=1.44.1) (2.9.2)\r\n",
      "Requirement already satisfied: sniffio in /Users/pcejrowski/.virtualenvs/analytics-blueprints-public-bxjb/lib/python3.11/site-packages (from openai>=1.44.1) (1.3.1)\r\n",
      "Requirement already satisfied: tqdm>4 in /Users/pcejrowski/.virtualenvs/analytics-blueprints-public-bxjb/lib/python3.11/site-packages (from openai>=1.44.1) (4.67.0)\r\n",
      "Requirement already satisfied: typing-extensions<5,>=4.11 in /Users/pcejrowski/.virtualenvs/analytics-blueprints-public-bxjb/lib/python3.11/site-packages (from openai>=1.44.1) (4.12.2)\r\n",
      "Requirement already satisfied: langchain-core<0.4.0,>=0.3.15 in /Users/pcejrowski/.virtualenvs/analytics-blueprints-public-bxjb/lib/python3.11/site-packages (from langchain-openai>=0.2.1) (0.3.21)\r\n",
      "Requirement already satisfied: tiktoken<1,>=0.7 in /Users/pcejrowski/.virtualenvs/analytics-blueprints-public-bxjb/lib/python3.11/site-packages (from langchain-openai>=0.2.1) (0.8.0)\r\n",
      "Requirement already satisfied: branca>=0.6.0 in /Users/pcejrowski/.virtualenvs/analytics-blueprints-public-bxjb/lib/python3.11/site-packages (from folium>=0.17.0) (0.8.0)\r\n",
      "Requirement already satisfied: jinja2>=2.9 in /Users/pcejrowski/.virtualenvs/analytics-blueprints-public-bxjb/lib/python3.11/site-packages (from folium>=0.17.0) (3.1.4)\r\n",
      "Requirement already satisfied: requests in /Users/pcejrowski/.virtualenvs/analytics-blueprints-public-bxjb/lib/python3.11/site-packages (from folium>=0.17.0) (2.32.3)\r\n",
      "Requirement already satisfied: xyzservices in /Users/pcejrowski/.virtualenvs/analytics-blueprints-public-bxjb/lib/python3.11/site-packages (from folium>=0.17.0) (2024.9.0)\r\n",
      "Requirement already satisfied: comm>=0.1.3 in /Users/pcejrowski/.virtualenvs/analytics-blueprints-public-bxjb/lib/python3.11/site-packages (from ipywidgets>=8.1.5) (0.2.2)\r\n",
      "Requirement already satisfied: ipython>=6.1.0 in /Users/pcejrowski/.virtualenvs/analytics-blueprints-public-bxjb/lib/python3.11/site-packages (from ipywidgets>=8.1.5) (8.29.0)\r\n",
      "Requirement already satisfied: traitlets>=4.3.1 in /Users/pcejrowski/.virtualenvs/analytics-blueprints-public-bxjb/lib/python3.11/site-packages (from ipywidgets>=8.1.5) (5.14.3)\r\n",
      "Requirement already satisfied: widgetsnbextension~=4.0.12 in /Users/pcejrowski/.virtualenvs/analytics-blueprints-public-bxjb/lib/python3.11/site-packages (from ipywidgets>=8.1.5) (4.0.13)\r\n",
      "Requirement already satisfied: jupyterlab-widgets~=3.0.12 in /Users/pcejrowski/.virtualenvs/analytics-blueprints-public-bxjb/lib/python3.11/site-packages (from ipywidgets>=8.1.5) (3.0.13)\r\n",
      "Requirement already satisfied: idna>=2.8 in /Users/pcejrowski/.virtualenvs/analytics-blueprints-public-bxjb/lib/python3.11/site-packages (from anyio<5,>=3.5.0->openai>=1.44.1) (3.10)\r\n",
      "Requirement already satisfied: certifi in /Users/pcejrowski/.virtualenvs/analytics-blueprints-public-bxjb/lib/python3.11/site-packages (from httpx<1,>=0.23.0->openai>=1.44.1) (2024.8.30)\r\n",
      "Requirement already satisfied: httpcore==1.* in /Users/pcejrowski/.virtualenvs/analytics-blueprints-public-bxjb/lib/python3.11/site-packages (from httpx<1,>=0.23.0->openai>=1.44.1) (1.0.6)\r\n",
      "Requirement already satisfied: h11<0.15,>=0.13 in /Users/pcejrowski/.virtualenvs/analytics-blueprints-public-bxjb/lib/python3.11/site-packages (from httpcore==1.*->httpx<1,>=0.23.0->openai>=1.44.1) (0.14.0)\r\n",
      "Requirement already satisfied: decorator in /Users/pcejrowski/.virtualenvs/analytics-blueprints-public-bxjb/lib/python3.11/site-packages (from ipython>=6.1.0->ipywidgets>=8.1.5) (5.1.1)\r\n",
      "Requirement already satisfied: jedi>=0.16 in /Users/pcejrowski/.virtualenvs/analytics-blueprints-public-bxjb/lib/python3.11/site-packages (from ipython>=6.1.0->ipywidgets>=8.1.5) (0.19.1)\r\n",
      "Requirement already satisfied: matplotlib-inline in /Users/pcejrowski/.virtualenvs/analytics-blueprints-public-bxjb/lib/python3.11/site-packages (from ipython>=6.1.0->ipywidgets>=8.1.5) (0.1.7)\r\n",
      "Requirement already satisfied: prompt-toolkit<3.1.0,>=3.0.41 in /Users/pcejrowski/.virtualenvs/analytics-blueprints-public-bxjb/lib/python3.11/site-packages (from ipython>=6.1.0->ipywidgets>=8.1.5) (3.0.48)\r\n",
      "Requirement already satisfied: pygments>=2.4.0 in /Users/pcejrowski/.virtualenvs/analytics-blueprints-public-bxjb/lib/python3.11/site-packages (from ipython>=6.1.0->ipywidgets>=8.1.5) (2.18.0)\r\n",
      "Requirement already satisfied: stack-data in /Users/pcejrowski/.virtualenvs/analytics-blueprints-public-bxjb/lib/python3.11/site-packages (from ipython>=6.1.0->ipywidgets>=8.1.5) (0.6.3)\r\n",
      "Requirement already satisfied: pexpect>4.3 in /Users/pcejrowski/.virtualenvs/analytics-blueprints-public-bxjb/lib/python3.11/site-packages (from ipython>=6.1.0->ipywidgets>=8.1.5) (4.9.0)\r\n",
      "Requirement already satisfied: MarkupSafe>=2.0 in /Users/pcejrowski/.virtualenvs/analytics-blueprints-public-bxjb/lib/python3.11/site-packages (from jinja2>=2.9->folium>=0.17.0) (3.0.2)\r\n",
      "Requirement already satisfied: PyYAML>=5.3 in /Users/pcejrowski/.virtualenvs/analytics-blueprints-public-bxjb/lib/python3.11/site-packages (from langchain-core<0.4.0,>=0.3.15->langchain-openai>=0.2.1) (6.0.2)\r\n",
      "Requirement already satisfied: jsonpatch<2.0,>=1.33 in /Users/pcejrowski/.virtualenvs/analytics-blueprints-public-bxjb/lib/python3.11/site-packages (from langchain-core<0.4.0,>=0.3.15->langchain-openai>=0.2.1) (1.33)\r\n",
      "Requirement already satisfied: langsmith<0.2.0,>=0.1.125 in /Users/pcejrowski/.virtualenvs/analytics-blueprints-public-bxjb/lib/python3.11/site-packages (from langchain-core<0.4.0,>=0.3.15->langchain-openai>=0.2.1) (0.1.141)\r\n",
      "Requirement already satisfied: annotated-types>=0.6.0 in /Users/pcejrowski/.virtualenvs/analytics-blueprints-public-bxjb/lib/python3.11/site-packages (from pydantic<3,>=1.9.0->openai>=1.44.1) (0.7.0)\r\n",
      "Requirement already satisfied: pydantic-core==2.23.4 in /Users/pcejrowski/.virtualenvs/analytics-blueprints-public-bxjb/lib/python3.11/site-packages (from pydantic<3,>=1.9.0->openai>=1.44.1) (2.23.4)\r\n",
      "Requirement already satisfied: six>=1.5 in /Users/pcejrowski/.virtualenvs/analytics-blueprints-public-bxjb/lib/python3.11/site-packages (from python-dateutil>=2.7->matplotlib==3.9.1) (1.16.0)\r\n",
      "Requirement already satisfied: regex>=2022.1.18 in /Users/pcejrowski/.virtualenvs/analytics-blueprints-public-bxjb/lib/python3.11/site-packages (from tiktoken<1,>=0.7->langchain-openai>=0.2.1) (2024.11.6)\r\n",
      "Requirement already satisfied: charset-normalizer<4,>=2 in /Users/pcejrowski/.virtualenvs/analytics-blueprints-public-bxjb/lib/python3.11/site-packages (from requests->folium>=0.17.0) (3.4.0)\r\n",
      "Requirement already satisfied: urllib3<3,>=1.21.1 in /Users/pcejrowski/.virtualenvs/analytics-blueprints-public-bxjb/lib/python3.11/site-packages (from requests->folium>=0.17.0) (2.2.3)\r\n",
      "Requirement already satisfied: parso<0.9.0,>=0.8.3 in /Users/pcejrowski/.virtualenvs/analytics-blueprints-public-bxjb/lib/python3.11/site-packages (from jedi>=0.16->ipython>=6.1.0->ipywidgets>=8.1.5) (0.8.4)\r\n",
      "Requirement already satisfied: jsonpointer>=1.9 in /Users/pcejrowski/.virtualenvs/analytics-blueprints-public-bxjb/lib/python3.11/site-packages (from jsonpatch<2.0,>=1.33->langchain-core<0.4.0,>=0.3.15->langchain-openai>=0.2.1) (3.0.0)\r\n",
      "Requirement already satisfied: orjson<4.0.0,>=3.9.14 in /Users/pcejrowski/.virtualenvs/analytics-blueprints-public-bxjb/lib/python3.11/site-packages (from langsmith<0.2.0,>=0.1.125->langchain-core<0.4.0,>=0.3.15->langchain-openai>=0.2.1) (3.10.11)\r\n",
      "Requirement already satisfied: requests-toolbelt<2.0.0,>=1.0.0 in /Users/pcejrowski/.virtualenvs/analytics-blueprints-public-bxjb/lib/python3.11/site-packages (from langsmith<0.2.0,>=0.1.125->langchain-core<0.4.0,>=0.3.15->langchain-openai>=0.2.1) (1.0.0)\r\n",
      "Requirement already satisfied: ptyprocess>=0.5 in /Users/pcejrowski/.virtualenvs/analytics-blueprints-public-bxjb/lib/python3.11/site-packages (from pexpect>4.3->ipython>=6.1.0->ipywidgets>=8.1.5) (0.7.0)\r\n",
      "Requirement already satisfied: wcwidth in /Users/pcejrowski/.virtualenvs/analytics-blueprints-public-bxjb/lib/python3.11/site-packages (from prompt-toolkit<3.1.0,>=3.0.41->ipython>=6.1.0->ipywidgets>=8.1.5) (0.2.13)\r\n",
      "Requirement already satisfied: executing>=1.2.0 in /Users/pcejrowski/.virtualenvs/analytics-blueprints-public-bxjb/lib/python3.11/site-packages (from stack-data->ipython>=6.1.0->ipywidgets>=8.1.5) (2.1.0)\r\n",
      "Requirement already satisfied: asttokens>=2.1.0 in /Users/pcejrowski/.virtualenvs/analytics-blueprints-public-bxjb/lib/python3.11/site-packages (from stack-data->ipython>=6.1.0->ipywidgets>=8.1.5) (2.4.1)\r\n",
      "Requirement already satisfied: pure-eval in /Users/pcejrowski/.virtualenvs/analytics-blueprints-public-bxjb/lib/python3.11/site-packages (from stack-data->ipython>=6.1.0->ipywidgets>=8.1.5) (0.2.3)\r\n",
      "Note: you may need to restart the kernel to use updated packages.\n",
      "Requirement already satisfied: google-cloud-storage==2.18.0 in /Users/pcejrowski/.virtualenvs/analytics-blueprints-public-bxjb/lib/python3.11/site-packages (2.18.0)\r\n",
      "Requirement already satisfied: google-cloud-bigquery==3.25.0 in /Users/pcejrowski/.virtualenvs/analytics-blueprints-public-bxjb/lib/python3.11/site-packages (from google-cloud-bigquery[pandas,pyarrow]==3.25.0) (3.25.0)\r\n",
      "Requirement already satisfied: google-cloud-bigquery-storage<3.0.0,>=2.25.0 in /Users/pcejrowski/.virtualenvs/analytics-blueprints-public-bxjb/lib/python3.11/site-packages (2.27.0)\r\n",
      "Requirement already satisfied: google-auth<3.0dev,>=2.26.1 in /Users/pcejrowski/.virtualenvs/analytics-blueprints-public-bxjb/lib/python3.11/site-packages (from google-cloud-storage==2.18.0) (2.36.0)\r\n",
      "Requirement already satisfied: google-api-core<3.0.0dev,>=2.15.0 in /Users/pcejrowski/.virtualenvs/analytics-blueprints-public-bxjb/lib/python3.11/site-packages (from google-cloud-storage==2.18.0) (2.22.0)\r\n",
      "Requirement already satisfied: google-cloud-core<3.0dev,>=2.3.0 in /Users/pcejrowski/.virtualenvs/analytics-blueprints-public-bxjb/lib/python3.11/site-packages (from google-cloud-storage==2.18.0) (2.4.1)\r\n",
      "Requirement already satisfied: google-resumable-media>=2.6.0 in /Users/pcejrowski/.virtualenvs/analytics-blueprints-public-bxjb/lib/python3.11/site-packages (from google-cloud-storage==2.18.0) (2.7.2)\r\n",
      "Requirement already satisfied: requests<3.0.0dev,>=2.18.0 in /Users/pcejrowski/.virtualenvs/analytics-blueprints-public-bxjb/lib/python3.11/site-packages (from google-cloud-storage==2.18.0) (2.32.3)\r\n",
      "Requirement already satisfied: google-crc32c<2.0dev,>=1.0 in /Users/pcejrowski/.virtualenvs/analytics-blueprints-public-bxjb/lib/python3.11/site-packages (from google-cloud-storage==2.18.0) (1.6.0)\r\n",
      "Requirement already satisfied: packaging>=20.0.0 in /Users/pcejrowski/.virtualenvs/analytics-blueprints-public-bxjb/lib/python3.11/site-packages (from google-cloud-bigquery==3.25.0->google-cloud-bigquery[pandas,pyarrow]==3.25.0) (24.2)\r\n",
      "Requirement already satisfied: python-dateutil<3.0dev,>=2.7.2 in /Users/pcejrowski/.virtualenvs/analytics-blueprints-public-bxjb/lib/python3.11/site-packages (from google-cloud-bigquery==3.25.0->google-cloud-bigquery[pandas,pyarrow]==3.25.0) (2.9.0.post0)\r\n",
      "\u001B[33mWARNING: google-cloud-bigquery 3.25.0 does not provide the extra 'pyarrow'\u001B[0m\u001B[33m\r\n",
      "\u001B[0mRequirement already satisfied: pandas>=1.1.0 in /Users/pcejrowski/.virtualenvs/analytics-blueprints-public-bxjb/lib/python3.11/site-packages (from google-cloud-bigquery[pandas,pyarrow]==3.25.0) (2.2.3)\r\n",
      "Requirement already satisfied: pyarrow>=3.0.0 in /Users/pcejrowski/.virtualenvs/analytics-blueprints-public-bxjb/lib/python3.11/site-packages (from google-cloud-bigquery[pandas,pyarrow]==3.25.0) (18.0.0)\r\n",
      "Requirement already satisfied: db-dtypes<2.0.0dev,>=0.3.0 in /Users/pcejrowski/.virtualenvs/analytics-blueprints-public-bxjb/lib/python3.11/site-packages (from google-cloud-bigquery[pandas,pyarrow]==3.25.0) (1.3.0)\r\n",
      "Requirement already satisfied: proto-plus<2.0.0dev,>=1.22.0 in /Users/pcejrowski/.virtualenvs/analytics-blueprints-public-bxjb/lib/python3.11/site-packages (from google-cloud-bigquery-storage<3.0.0,>=2.25.0) (1.25.0)\r\n",
      "Requirement already satisfied: protobuf!=3.20.0,!=3.20.1,!=4.21.0,!=4.21.1,!=4.21.2,!=4.21.3,!=4.21.4,!=4.21.5,<6.0.0dev,>=3.20.2 in /Users/pcejrowski/.virtualenvs/analytics-blueprints-public-bxjb/lib/python3.11/site-packages (from google-cloud-bigquery-storage<3.0.0,>=2.25.0) (5.28.3)\r\n",
      "Requirement already satisfied: numpy>=1.16.6 in /Users/pcejrowski/.virtualenvs/analytics-blueprints-public-bxjb/lib/python3.11/site-packages (from db-dtypes<2.0.0dev,>=0.3.0->google-cloud-bigquery[pandas,pyarrow]==3.25.0) (1.26.4)\r\n",
      "Requirement already satisfied: googleapis-common-protos<2.0.dev0,>=1.56.2 in /Users/pcejrowski/.virtualenvs/analytics-blueprints-public-bxjb/lib/python3.11/site-packages (from google-api-core<3.0.0dev,>=2.15.0->google-cloud-storage==2.18.0) (1.65.0)\r\n",
      "Requirement already satisfied: grpcio<2.0dev,>=1.33.2 in /Users/pcejrowski/.virtualenvs/analytics-blueprints-public-bxjb/lib/python3.11/site-packages (from google-api-core[grpc]!=2.0.*,!=2.1.*,!=2.10.*,!=2.2.*,!=2.3.*,!=2.4.*,!=2.5.*,!=2.6.*,!=2.7.*,!=2.8.*,!=2.9.*,<3.0.0dev,>=1.34.1->google-cloud-bigquery==3.25.0->google-cloud-bigquery[pandas,pyarrow]==3.25.0) (1.67.1)\r\n",
      "Requirement already satisfied: grpcio-status<2.0.dev0,>=1.33.2 in /Users/pcejrowski/.virtualenvs/analytics-blueprints-public-bxjb/lib/python3.11/site-packages (from google-api-core[grpc]!=2.0.*,!=2.1.*,!=2.10.*,!=2.2.*,!=2.3.*,!=2.4.*,!=2.5.*,!=2.6.*,!=2.7.*,!=2.8.*,!=2.9.*,<3.0.0dev,>=1.34.1->google-cloud-bigquery==3.25.0->google-cloud-bigquery[pandas,pyarrow]==3.25.0) (1.67.1)\r\n",
      "Requirement already satisfied: cachetools<6.0,>=2.0.0 in /Users/pcejrowski/.virtualenvs/analytics-blueprints-public-bxjb/lib/python3.11/site-packages (from google-auth<3.0dev,>=2.26.1->google-cloud-storage==2.18.0) (5.5.0)\r\n",
      "Requirement already satisfied: pyasn1-modules>=0.2.1 in /Users/pcejrowski/.virtualenvs/analytics-blueprints-public-bxjb/lib/python3.11/site-packages (from google-auth<3.0dev,>=2.26.1->google-cloud-storage==2.18.0) (0.4.1)\r\n",
      "Requirement already satisfied: rsa<5,>=3.1.4 in /Users/pcejrowski/.virtualenvs/analytics-blueprints-public-bxjb/lib/python3.11/site-packages (from google-auth<3.0dev,>=2.26.1->google-cloud-storage==2.18.0) (4.9)\r\n",
      "Requirement already satisfied: pytz>=2020.1 in /Users/pcejrowski/.virtualenvs/analytics-blueprints-public-bxjb/lib/python3.11/site-packages (from pandas>=1.1.0->google-cloud-bigquery[pandas,pyarrow]==3.25.0) (2024.2)\r\n",
      "Requirement already satisfied: tzdata>=2022.7 in /Users/pcejrowski/.virtualenvs/analytics-blueprints-public-bxjb/lib/python3.11/site-packages (from pandas>=1.1.0->google-cloud-bigquery[pandas,pyarrow]==3.25.0) (2024.2)\r\n",
      "Requirement already satisfied: six>=1.5 in /Users/pcejrowski/.virtualenvs/analytics-blueprints-public-bxjb/lib/python3.11/site-packages (from python-dateutil<3.0dev,>=2.7.2->google-cloud-bigquery==3.25.0->google-cloud-bigquery[pandas,pyarrow]==3.25.0) (1.16.0)\r\n",
      "Requirement already satisfied: charset-normalizer<4,>=2 in /Users/pcejrowski/.virtualenvs/analytics-blueprints-public-bxjb/lib/python3.11/site-packages (from requests<3.0.0dev,>=2.18.0->google-cloud-storage==2.18.0) (3.4.0)\r\n",
      "Requirement already satisfied: idna<4,>=2.5 in /Users/pcejrowski/.virtualenvs/analytics-blueprints-public-bxjb/lib/python3.11/site-packages (from requests<3.0.0dev,>=2.18.0->google-cloud-storage==2.18.0) (3.10)\r\n",
      "Requirement already satisfied: urllib3<3,>=1.21.1 in /Users/pcejrowski/.virtualenvs/analytics-blueprints-public-bxjb/lib/python3.11/site-packages (from requests<3.0.0dev,>=2.18.0->google-cloud-storage==2.18.0) (2.2.3)\r\n",
      "Requirement already satisfied: certifi>=2017.4.17 in /Users/pcejrowski/.virtualenvs/analytics-blueprints-public-bxjb/lib/python3.11/site-packages (from requests<3.0.0dev,>=2.18.0->google-cloud-storage==2.18.0) (2024.8.30)\r\n",
      "Requirement already satisfied: pyasn1<0.7.0,>=0.4.6 in /Users/pcejrowski/.virtualenvs/analytics-blueprints-public-bxjb/lib/python3.11/site-packages (from pyasn1-modules>=0.2.1->google-auth<3.0dev,>=2.26.1->google-cloud-storage==2.18.0) (0.6.1)\r\n",
      "Note: you may need to restart the kernel to use updated packages.\n",
      "Requirement already satisfied: python-dotenv in /Users/pcejrowski/.virtualenvs/analytics-blueprints-public-bxjb/lib/python3.11/site-packages (1.0.1)\r\n",
      "Note: you may need to restart the kernel to use updated packages.\n",
      "Loaded .env file from /Users/pcejrowski/crisp/git/analytics-blueprints-public/notebooks/.env\n"
     ]
    }
   ],
   "execution_count": 2
  },
  {
   "cell_type": "markdown",
   "id": "979232c881565e62",
   "metadata": {},
   "source": [
    "## Run extra imports"
   ]
  },
  {
   "cell_type": "code",
   "id": "8ecc381a00da0bb2",
   "metadata": {
    "ExecuteTime": {
     "end_time": "2025-01-15T16:56:20.849381Z",
     "start_time": "2025-01-15T16:56:20.847308Z"
    }
   },
   "source": [
    "import numpy as np\n",
    "import matplotlib.pyplot as plt\n",
    "import seaborn as sns\n",
    "from scipy.stats import zscore\n",
    "from IPython.display import display\n",
    "import ipywidgets as widgets"
   ],
   "outputs": [],
   "execution_count": 3
  },
  {
   "cell_type": "markdown",
   "id": "d7085e19",
   "metadata": {},
   "source": [
    "### Load the data from BigQuery\n",
    "\n",
    "We'll load data from the `fact_sales` and `fact_inventory` tables."
   ]
  },
  {
   "cell_type": "code",
   "id": "ce29e8ae",
   "metadata": {
    "ExecuteTime": {
     "end_time": "2025-01-15T16:56:26.783581Z",
     "start_time": "2025-01-15T16:56:20.852951Z"
    }
   },
   "source": [
    "%%load sales_df\n",
    "SELECT\n",
    "    DATE(date_key) AS date,\n",
    "    DATE_TRUNC(DATE(date_key), MONTH) AS time_window,\n",
    "    store_id,\n",
    "    product_id,\n",
    "    sales_quantity\n",
    "FROM\n",
    "    `{project}`.`{dataset}`.`{fact_sales_table}`\n",
    "WHERE\n",
    "    sales_quantity IS NOT NULL\n",
    "    AND retailer = '{retailer}'"
   ],
   "outputs": [],
   "execution_count": 4
  },
  {
   "cell_type": "code",
   "id": "6231aa49fdb2581d",
   "metadata": {
    "ExecuteTime": {
     "end_time": "2025-01-15T16:56:32.955613Z",
     "start_time": "2025-01-15T16:56:26.791286Z"
    }
   },
   "source": [
    "%%load inventory_df\n",
    "SELECT\n",
    "    DATE(date_key) AS date,\n",
    "    DATE_TRUNC(DATE(date_key), MONTH) AS time_window,\n",
    "    store_id,\n",
    "    product_id,\n",
    "    on_hand_quantity AS inventory_quantity\n",
    "FROM\n",
    "    `{project}`.`{dataset}`.`{fact_inventory_table}`\n",
    "WHERE\n",
    "    on_hand_quantity IS NOT NULL\n",
    "    AND retailer = '{retailer}'"
   ],
   "outputs": [],
   "execution_count": 5
  },
  {
   "metadata": {},
   "cell_type": "markdown",
   "source": [
    "### Perform anomaly detection using z-scores\n",
    "\n",
    "For each time window (in this case each month) and product, we'll compute the z-score of `sales_quantity` and identify outliers where the absolute z-score exceeds 3.5."
   ],
   "id": "5dad47196fd34ed"
  },
  {
   "cell_type": "code",
   "id": "7dc75674f0c1d5b2",
   "metadata": {
    "ExecuteTime": {
     "end_time": "2025-01-15T16:56:34.194308Z",
     "start_time": "2025-01-15T16:56:32.962452Z"
    }
   },
   "source": [
    "# Function to compute z-scores and identify outliers\n",
    "def detect_outliers(group):\n",
    "    if len(group) > 30:\n",
    "        group[\"z_score\"] = zscore(group[\"sales_quantity\"])\n",
    "        group[\"outlier\"] = group[\"z_score\"].abs() > 3.5\n",
    "    else:\n",
    "        group[\"z_score\"] = np.nan\n",
    "        group[\"outlier\"] = False\n",
    "    return group\n",
    "\n",
    "\n",
    "sales_df[\"sales_quantity\"] = sales_df[\"sales_quantity\"].astype(float)\n",
    "\n",
    "# Apply the function to each product within each time window\n",
    "grouped_sales = (\n",
    "    sales_df.groupby([\"time_window\", \"product_id\"], as_index=False)\n",
    "    .apply(detect_outliers)\n",
    "    .reset_index(drop=True)\n",
    ")"
   ],
   "outputs": [
    {
     "name": "stderr",
     "output_type": "stream",
     "text": [
      "/var/folders/yc/tk8l4tpj03s23nsy68jphwxr0000gn/T/ipykernel_86894/810108999.py:17: DeprecationWarning: DataFrameGroupBy.apply operated on the grouping columns. This behavior is deprecated, and in a future version of pandas the grouping columns will be excluded from the operation. Either pass `include_groups=False` to exclude the groupings or explicitly select the grouping columns after groupby to silence this warning.\n",
      "  .apply(detect_outliers)\n"
     ]
    }
   ],
   "execution_count": 6
  },
  {
   "metadata": {},
   "cell_type": "markdown",
   "source": "We will then calculate the total number and percentage of anomalies in the dataset.\n",
   "id": "6edaa6f14f5e59df"
  },
  {
   "cell_type": "code",
   "id": "7374eb3bbd094c46",
   "metadata": {
    "ExecuteTime": {
     "end_time": "2025-01-15T16:56:34.672083Z",
     "start_time": "2025-01-15T16:56:34.200734Z"
    }
   },
   "source": [
    "sales_anomalies = grouped_sales[grouped_sales[\"outlier\"]]\n",
    "sales_anomalies = (\n",
    "    sales_anomalies.groupby([\"product_id\", \"store_id\", \"time_window\"])\n",
    "    .last()\n",
    "    .reset_index()\n",
    ")\n",
    "\n",
    "print(f\"Number of anomalies detected in sales data: {len(sales_anomalies)}\")\n",
    "sales_anomalies.head()\n",
    "\n",
    "print(f\"Number of anomalies detected in sales data: {len(sales_anomalies)}\")\n",
    "print(f\"Total number of sales data points: {len(sales_df)}\")\n",
    "print(\n",
    "    f\"Anomalies as a percentage of total sales data: {len(sales_anomalies) / len(sales_df) * 100:.2f}%\"\n",
    ")"
   ],
   "outputs": [
    {
     "name": "stdout",
     "output_type": "stream",
     "text": [
      "Number of anomalies detected in sales data: 28891\n",
      "Number of anomalies detected in sales data: 28891\n",
      "Total number of sales data points: 5168400\n",
      "Anomalies as a percentage of total sales data: 0.56%\n"
     ]
    }
   ],
   "execution_count": 7
  },
  {
   "cell_type": "markdown",
   "id": "c65907fdd82e7184",
   "metadata": {},
   "source": [
    "### Visualize the anomalies in sales data\n",
    "\n",
    "We will plot the sales quantities over time for a specific product and highlight the anomalies."
   ]
  },
  {
   "cell_type": "code",
   "id": "3384214495c03348",
   "metadata": {
    "ExecuteTime": {
     "end_time": "2025-01-15T16:56:35.354971Z",
     "start_time": "2025-01-15T16:56:34.679044Z"
    }
   },
   "source": [
    "if not sales_anomalies.empty:\n",
    "    # Prepare dropdown options\n",
    "    options = []\n",
    "    for _, row in sales_anomalies.iterrows():\n",
    "        label = (f\"Product {row['product_id']} | Store {row['store_id']}\")\n",
    "        value = (row[\"product_id\"], row[\"store_id\"])\n",
    "        options.append((label, value))\n",
    "\n",
    "    # Create a dropdown widget\n",
    "    product_dropdown = widgets.Dropdown(\n",
    "        options=options, description=\"Select Product:\"\n",
    "    )\n",
    "\n",
    "    # Define a function to update the plot based on the selected product\n",
    "    def update_sales_plot(product_and_store):\n",
    "        product_id, store_id = product_and_store\n",
    "        product_data = grouped_sales[(grouped_sales[\"product_id\"] == product_id) & (grouped_sales[\"store_id\"] == store_id)].copy()\n",
    "        if product_data.empty:\n",
    "            print(f\"No data available for Product {product_id} and Store {store_id}.\")\n",
    "            return\n",
    "        # Ensure 'outlier' is boolean\n",
    "        product_data[\"outlier\"] = product_data[\"outlier\"].astype(bool)\n",
    "\n",
    "        # Plot sales quantity over time\n",
    "        plt.figure(figsize=(12, 6))\n",
    "        sns.lineplot(\n",
    "            data=product_data, x=\"date\", y=\"sales_quantity\", label=\"Sales Quantity\"\n",
    "        )\n",
    "\n",
    "        # Plot anomalies\n",
    "        anomalies = product_data[product_data[\"outlier\"]]\n",
    "        sns.scatterplot(\n",
    "            data=anomalies,\n",
    "            x=\"date\",\n",
    "            y=\"sales_quantity\",\n",
    "            color=\"red\",\n",
    "            label=\"Anomalies\",\n",
    "            s=100,\n",
    "        )\n",
    "        plt.title(f\"Sales Quantity Over Time for Product {product_id} | Store {store_id}\")\n",
    "        plt.xlabel(\"Date\")\n",
    "        plt.ylabel(\"Sales Quantity\")\n",
    "        plt.legend()\n",
    "        display(plt.show())\n",
    "\n",
    "    # Create an interactive widget to update the plot\n",
    "    interactive_plot = widgets.interactive(\n",
    "        update_sales_plot, product_and_store=product_dropdown\n",
    "    )\n",
    "    display(interactive_plot)\n",
    "else:\n",
    "    print(\"No anomalies detected to visualize.\")"
   ],
   "outputs": [
    {
     "data": {
      "text/plain": [
       "interactive(children=(Dropdown(description='Select Product:', options=(('Product 101 | Store 1256909618105974'…"
      ],
      "application/vnd.jupyter.widget-view+json": {
       "version_major": 2,
       "version_minor": 0,
       "model_id": "19ee55ce62a94c8ca79c16a2950608db"
      }
     },
     "metadata": {},
     "output_type": "display_data"
    }
   ],
   "execution_count": 8
  },
  {
   "cell_type": "markdown",
   "id": "caad30fa",
   "metadata": {},
   "source": [
    "### Perform anomaly detection on inventory data (if needed)\n",
    "\n",
    "You can apply the same process to the inventory data."
   ]
  },
  {
   "cell_type": "code",
   "id": "d3674e07fd3ed863",
   "metadata": {
    "ExecuteTime": {
     "end_time": "2025-01-15T16:56:36.713810Z",
     "start_time": "2025-01-15T16:56:35.443003Z"
    }
   },
   "source": [
    "# Function to compute z-scores and identify outliers\n",
    "def detect_outliers_inventory(group):\n",
    "    if len(group) > 30:\n",
    "        group[\"z_score\"] = zscore(group[\"inventory_quantity\"])\n",
    "        group[\"outlier\"] = group[\"z_score\"].abs() > 3.5\n",
    "    else:\n",
    "        group[\"z_score\"] = np.nan\n",
    "        group[\"outlier\"] = False\n",
    "    return group\n",
    "\n",
    "\n",
    "inventory_df[\"inventory_quantity\"] = inventory_df[\"inventory_quantity\"].astype(float)\n",
    "\n",
    "# Apply the function to each product within each time window\n",
    "grouped_inventory = (\n",
    "    inventory_df.groupby([\"time_window\", \"product_id\"], as_index=False)\n",
    "    .apply(detect_outliers_inventory)\n",
    "    .reset_index(drop=True)\n",
    ")"
   ],
   "outputs": [
    {
     "name": "stderr",
     "output_type": "stream",
     "text": [
      "/var/folders/yc/tk8l4tpj03s23nsy68jphwxr0000gn/T/ipykernel_86894/718405992.py:17: DeprecationWarning: DataFrameGroupBy.apply operated on the grouping columns. This behavior is deprecated, and in a future version of pandas the grouping columns will be excluded from the operation. Either pass `include_groups=False` to exclude the groupings or explicitly select the grouping columns after groupby to silence this warning.\n",
      "  .apply(detect_outliers_inventory)\n"
     ]
    }
   ],
   "execution_count": 9
  },
  {
   "cell_type": "markdown",
   "id": "1960ad60d8dea492",
   "metadata": {},
   "source": [
    "### Examine the anomalies in inventory data"
   ]
  },
  {
   "cell_type": "code",
   "id": "9ab6a85e",
   "metadata": {
    "ExecuteTime": {
     "end_time": "2025-01-15T16:56:36.888484Z",
     "start_time": "2025-01-15T16:56:36.747073Z"
    }
   },
   "source": [
    "inventory_anomalies = grouped_inventory[grouped_inventory[\"outlier\"]]\n",
    "inventory_anomalies = (\n",
    "    inventory_anomalies.groupby([\"product_id\", \"store_id\", \"time_window\"])\n",
    "    .last()\n",
    "    .reset_index()\n",
    ")\n",
    "\n",
    "print(f\"Number of anomalies detected in inventory data: {len(inventory_anomalies)}\")\n",
    "inventory_anomalies.head()\n",
    "\n",
    "print(f\"Number of anomalies detected in inventory data: {len(inventory_anomalies)}\")\n",
    "print(f\"Total number of inventory data points: {len(inventory_df)}\")\n",
    "print(\n",
    "    f\"Anomalies as a percentage of total inventory data: {len(inventory_anomalies) / len(inventory_df) * 100:.2f}%\"\n",
    ")"
   ],
   "outputs": [
    {
     "name": "stdout",
     "output_type": "stream",
     "text": [
      "Number of anomalies detected in inventory data: 8607\n",
      "Number of anomalies detected in inventory data: 8607\n",
      "Total number of inventory data points: 5168400\n",
      "Anomalies as a percentage of total inventory data: 0.17%\n"
     ]
    }
   ],
   "execution_count": 10
  },
  {
   "cell_type": "markdown",
   "id": "a4dd0bd8",
   "metadata": {},
   "source": [
    "### Visualize the anomalies in inventory data"
   ]
  },
  {
   "cell_type": "code",
   "id": "39907176",
   "metadata": {
    "ExecuteTime": {
     "end_time": "2025-01-15T16:56:37.213643Z",
     "start_time": "2025-01-15T16:56:36.919612Z"
    }
   },
   "source": [
    "if not inventory_anomalies.empty:\n",
    "    # Prepare dropdown options\n",
    "    options = []\n",
    "    for _, row in inventory_anomalies.iterrows():\n",
    "        label = (f\"Product {row['product_id']} | Store {row['store_id']}\")\n",
    "        value = (row[\"product_id\"], row[\"store_id\"])\n",
    "        options.append((label, value))\n",
    "\n",
    "    # Create a dropdown widget\n",
    "    product_dropdown = widgets.Dropdown(\n",
    "        options=options, description=\"Select Product:\"\n",
    "    )\n",
    "\n",
    "    # Define a function to update the plot based on the selected product\n",
    "    def update_inventory_plot(product_and_store):\n",
    "        product_id, store_id = product_and_store\n",
    "        product_data = grouped_inventory[\n",
    "            (grouped_inventory[\"product_id\"] == product_id) &\n",
    "            (grouped_inventory[\"store_id\"] == store_id)\n",
    "        ].copy()\n",
    "\n",
    "        if product_data.empty:\n",
    "            print(f\"No data available for Product {product_id} and Store {store_id}.\")\n",
    "            return\n",
    "\n",
    "        # Ensure 'outlier' is boolean\n",
    "        product_data[\"outlier\"] = product_data[\"outlier\"].astype(bool)\n",
    "\n",
    "        # Plot inventory quantity over time\n",
    "        plt.figure(figsize=(12, 6))\n",
    "        sns.lineplot(\n",
    "            data=product_data, x=\"date\", y=\"inventory_quantity\", label=\"Inventory Quantity\"\n",
    "        )\n",
    "\n",
    "        # Plot anomalies\n",
    "        anomalies = product_data[product_data[\"outlier\"]]\n",
    "        sns.scatterplot(\n",
    "            data=anomalies,\n",
    "            x=\"date\",\n",
    "            y=\"inventory_quantity\",\n",
    "            color=\"red\",\n",
    "            label=\"Anomalies\",\n",
    "            s=100,\n",
    "        )\n",
    "        plt.title(f\"Inventory Quantity Over Time for Product {product_id} | Store {store_id}\")\n",
    "        plt.xlabel(\"Date\")\n",
    "        plt.ylabel(\"Inventory Quantity\")\n",
    "        plt.legend()\n",
    "        display(plt.show())\n",
    "\n",
    "    # Create an interactive widget to update the plot\n",
    "    interactive_plot = widgets.interactive(\n",
    "        update_inventory_plot, product_and_store=product_dropdown\n",
    "    )\n",
    "    display(interactive_plot)\n",
    "else:\n",
    "    print(\"No anomalies detected to visualize.\")\n"
   ],
   "outputs": [
    {
     "data": {
      "text/plain": [
       "interactive(children=(Dropdown(description='Select Product:', options=(('Product 101 | Store 7243408426042915'…"
      ],
      "application/vnd.jupyter.widget-view+json": {
       "version_major": 2,
       "version_minor": 0,
       "model_id": "f472068037724d049eaf67222404d452"
      }
     },
     "metadata": {},
     "output_type": "display_data"
    }
   ],
   "execution_count": 11
  },
  {
   "cell_type": "markdown",
   "id": "3b5c8bd9",
   "metadata": {},
   "source": [
    "### Save or report the anomalies"
   ]
  },
  {
   "cell_type": "markdown",
   "id": "ab773afa",
   "metadata": {},
   "source": [
    "#### Save anomalies to CSV files"
   ]
  },
  {
   "cell_type": "code",
   "id": "3271ef62",
   "metadata": {
    "ExecuteTime": {
     "end_time": "2025-01-15T16:56:37.504939Z",
     "start_time": "2025-01-15T16:56:37.230414Z"
    }
   },
   "source": [
    "# Save sales anomalies to a CSV file\n",
    "sales_anomalies.to_csv(\"sales_anomalies.csv\", index=False)\n",
    "print(\"Sales anomalies saved to 'sales_anomalies.csv'.\")\n",
    "\n",
    "# Save inventory anomalies to a CSV file\n",
    "inventory_anomalies.to_csv(\"inventory_anomalies.csv\", index=False)\n",
    "print(\"Inventory anomalies saved to 'inventory_anomalies.csv'.\")"
   ],
   "outputs": [
    {
     "name": "stdout",
     "output_type": "stream",
     "text": [
      "Sales anomalies saved to 'sales_anomalies.csv'.\n",
      "Inventory anomalies saved to 'inventory_anomalies.csv'.\n"
     ]
    }
   ],
   "execution_count": 12
  },
  {
   "cell_type": "markdown",
   "id": "3e15bdcf",
   "metadata": {},
   "source": [
    "#### Save anomalies to your data warehouse"
   ]
  },
  {
   "cell_type": "code",
   "id": "c0573ce6229d2949",
   "metadata": {
    "ExecuteTime": {
     "end_time": "2025-01-15T16:56:37.525653Z",
     "start_time": "2025-01-15T16:56:37.520213Z"
    }
   },
   "source": [
    "sales_anomalies"
   ],
   "outputs": [
    {
     "data": {
      "text/plain": [
       "       product_id            store_id time_window        date  sales_quantity  \\\n",
       "0             101    1256909618105974  2024-01-01  2024-01-02             6.0   \n",
       "1             101    1256909618105974  2024-04-01  2024-04-21             6.0   \n",
       "2             101    1256909618105974  2024-05-01  2024-05-04             6.0   \n",
       "3             101    1256909618105974  2024-08-01  2024-08-20             6.0   \n",
       "4             101    2893058682334322  2024-04-01  2024-04-24             6.0   \n",
       "...           ...                 ...         ...         ...             ...   \n",
       "28886         180  974851238042301426  2024-05-01  2024-05-10             6.0   \n",
       "28887         180  974851238042301426  2024-07-01  2024-07-14             6.0   \n",
       "28888         180  974851238042301426  2024-11-01  2024-11-06             7.0   \n",
       "28889         180  979316279447426146  2024-05-01  2024-05-06             8.0   \n",
       "28890         180  979316279447426146  2024-10-01  2024-10-05             7.0   \n",
       "\n",
       "        z_score  outlier  \n",
       "0      3.521871     True  \n",
       "1      3.604485     True  \n",
       "2      3.637330     True  \n",
       "3      3.600564     True  \n",
       "4      3.604485     True  \n",
       "...         ...      ...  \n",
       "28886  3.564098     True  \n",
       "28887  3.698851     True  \n",
       "28888  4.395046     True  \n",
       "28889  5.005446     True  \n",
       "28890  4.573049     True  \n",
       "\n",
       "[28891 rows x 7 columns]"
      ],
      "text/html": [
       "<div>\n",
       "<style scoped>\n",
       "    .dataframe tbody tr th:only-of-type {\n",
       "        vertical-align: middle;\n",
       "    }\n",
       "\n",
       "    .dataframe tbody tr th {\n",
       "        vertical-align: top;\n",
       "    }\n",
       "\n",
       "    .dataframe thead th {\n",
       "        text-align: right;\n",
       "    }\n",
       "</style>\n",
       "<table border=\"1\" class=\"dataframe\">\n",
       "  <thead>\n",
       "    <tr style=\"text-align: right;\">\n",
       "      <th></th>\n",
       "      <th>product_id</th>\n",
       "      <th>store_id</th>\n",
       "      <th>time_window</th>\n",
       "      <th>date</th>\n",
       "      <th>sales_quantity</th>\n",
       "      <th>z_score</th>\n",
       "      <th>outlier</th>\n",
       "    </tr>\n",
       "  </thead>\n",
       "  <tbody>\n",
       "    <tr>\n",
       "      <th>0</th>\n",
       "      <td>101</td>\n",
       "      <td>1256909618105974</td>\n",
       "      <td>2024-01-01</td>\n",
       "      <td>2024-01-02</td>\n",
       "      <td>6.0</td>\n",
       "      <td>3.521871</td>\n",
       "      <td>True</td>\n",
       "    </tr>\n",
       "    <tr>\n",
       "      <th>1</th>\n",
       "      <td>101</td>\n",
       "      <td>1256909618105974</td>\n",
       "      <td>2024-04-01</td>\n",
       "      <td>2024-04-21</td>\n",
       "      <td>6.0</td>\n",
       "      <td>3.604485</td>\n",
       "      <td>True</td>\n",
       "    </tr>\n",
       "    <tr>\n",
       "      <th>2</th>\n",
       "      <td>101</td>\n",
       "      <td>1256909618105974</td>\n",
       "      <td>2024-05-01</td>\n",
       "      <td>2024-05-04</td>\n",
       "      <td>6.0</td>\n",
       "      <td>3.637330</td>\n",
       "      <td>True</td>\n",
       "    </tr>\n",
       "    <tr>\n",
       "      <th>3</th>\n",
       "      <td>101</td>\n",
       "      <td>1256909618105974</td>\n",
       "      <td>2024-08-01</td>\n",
       "      <td>2024-08-20</td>\n",
       "      <td>6.0</td>\n",
       "      <td>3.600564</td>\n",
       "      <td>True</td>\n",
       "    </tr>\n",
       "    <tr>\n",
       "      <th>4</th>\n",
       "      <td>101</td>\n",
       "      <td>2893058682334322</td>\n",
       "      <td>2024-04-01</td>\n",
       "      <td>2024-04-24</td>\n",
       "      <td>6.0</td>\n",
       "      <td>3.604485</td>\n",
       "      <td>True</td>\n",
       "    </tr>\n",
       "    <tr>\n",
       "      <th>...</th>\n",
       "      <td>...</td>\n",
       "      <td>...</td>\n",
       "      <td>...</td>\n",
       "      <td>...</td>\n",
       "      <td>...</td>\n",
       "      <td>...</td>\n",
       "      <td>...</td>\n",
       "    </tr>\n",
       "    <tr>\n",
       "      <th>28886</th>\n",
       "      <td>180</td>\n",
       "      <td>974851238042301426</td>\n",
       "      <td>2024-05-01</td>\n",
       "      <td>2024-05-10</td>\n",
       "      <td>6.0</td>\n",
       "      <td>3.564098</td>\n",
       "      <td>True</td>\n",
       "    </tr>\n",
       "    <tr>\n",
       "      <th>28887</th>\n",
       "      <td>180</td>\n",
       "      <td>974851238042301426</td>\n",
       "      <td>2024-07-01</td>\n",
       "      <td>2024-07-14</td>\n",
       "      <td>6.0</td>\n",
       "      <td>3.698851</td>\n",
       "      <td>True</td>\n",
       "    </tr>\n",
       "    <tr>\n",
       "      <th>28888</th>\n",
       "      <td>180</td>\n",
       "      <td>974851238042301426</td>\n",
       "      <td>2024-11-01</td>\n",
       "      <td>2024-11-06</td>\n",
       "      <td>7.0</td>\n",
       "      <td>4.395046</td>\n",
       "      <td>True</td>\n",
       "    </tr>\n",
       "    <tr>\n",
       "      <th>28889</th>\n",
       "      <td>180</td>\n",
       "      <td>979316279447426146</td>\n",
       "      <td>2024-05-01</td>\n",
       "      <td>2024-05-06</td>\n",
       "      <td>8.0</td>\n",
       "      <td>5.005446</td>\n",
       "      <td>True</td>\n",
       "    </tr>\n",
       "    <tr>\n",
       "      <th>28890</th>\n",
       "      <td>180</td>\n",
       "      <td>979316279447426146</td>\n",
       "      <td>2024-10-01</td>\n",
       "      <td>2024-10-05</td>\n",
       "      <td>7.0</td>\n",
       "      <td>4.573049</td>\n",
       "      <td>True</td>\n",
       "    </tr>\n",
       "  </tbody>\n",
       "</table>\n",
       "<p>28891 rows × 7 columns</p>\n",
       "</div>"
      ]
     },
     "execution_count": 13,
     "metadata": {},
     "output_type": "execute_result"
    }
   ],
   "execution_count": 13
  },
  {
   "cell_type": "code",
   "id": "ace2884f306484ff",
   "metadata": {
    "ExecuteTime": {
     "end_time": "2025-01-15T16:56:45.920202Z",
     "start_time": "2025-01-15T16:56:37.553972Z"
    }
   },
   "source": [
    "%%save {project}.{dataset}.sales_anomalies\n",
    "sales_anomalies"
   ],
   "outputs": [],
   "execution_count": 14
  },
  {
   "cell_type": "code",
   "id": "398ebd897cd154d9",
   "metadata": {
    "ExecuteTime": {
     "end_time": "2025-01-15T16:56:45.964214Z",
     "start_time": "2025-01-15T16:56:45.958133Z"
    }
   },
   "source": [
    "inventory_anomalies"
   ],
   "outputs": [
    {
     "data": {
      "text/plain": [
       "      product_id            store_id time_window        date  \\\n",
       "0            101    7243408426042915  2024-10-01  2024-10-28   \n",
       "1            101   36297635338677003  2024-06-01  2024-06-02   \n",
       "2            101   51254687980601498  2024-04-01  2024-04-12   \n",
       "3            101   53567763105050586  2024-10-01  2024-10-31   \n",
       "4            101   53567763105050586  2024-11-01  2024-11-05   \n",
       "...          ...                 ...         ...         ...   \n",
       "8602         180  938296014196475287  2024-06-01  2024-06-17   \n",
       "8603         180  938296014196475287  2024-07-01  2024-07-04   \n",
       "8604         180  942485310238374410  2024-01-01  2024-01-11   \n",
       "8605         180  942485310238374410  2024-08-01  2024-08-30   \n",
       "8606         180  942485310238374410  2024-09-01  2024-09-06   \n",
       "\n",
       "      inventory_quantity   z_score  outlier  \n",
       "0                   35.0  3.639414     True  \n",
       "1                   37.0  4.004743     True  \n",
       "2                   42.0  4.081629     True  \n",
       "3                   38.0  4.012603     True  \n",
       "4                   46.0  4.613783     True  \n",
       "...                  ...       ...      ...  \n",
       "8602                43.0  4.211624     True  \n",
       "8603                43.0  3.953940     True  \n",
       "8604                32.0  3.551931     True  \n",
       "8605                37.0  3.785531     True  \n",
       "8606                40.0  4.355215     True  \n",
       "\n",
       "[8607 rows x 7 columns]"
      ],
      "text/html": [
       "<div>\n",
       "<style scoped>\n",
       "    .dataframe tbody tr th:only-of-type {\n",
       "        vertical-align: middle;\n",
       "    }\n",
       "\n",
       "    .dataframe tbody tr th {\n",
       "        vertical-align: top;\n",
       "    }\n",
       "\n",
       "    .dataframe thead th {\n",
       "        text-align: right;\n",
       "    }\n",
       "</style>\n",
       "<table border=\"1\" class=\"dataframe\">\n",
       "  <thead>\n",
       "    <tr style=\"text-align: right;\">\n",
       "      <th></th>\n",
       "      <th>product_id</th>\n",
       "      <th>store_id</th>\n",
       "      <th>time_window</th>\n",
       "      <th>date</th>\n",
       "      <th>inventory_quantity</th>\n",
       "      <th>z_score</th>\n",
       "      <th>outlier</th>\n",
       "    </tr>\n",
       "  </thead>\n",
       "  <tbody>\n",
       "    <tr>\n",
       "      <th>0</th>\n",
       "      <td>101</td>\n",
       "      <td>7243408426042915</td>\n",
       "      <td>2024-10-01</td>\n",
       "      <td>2024-10-28</td>\n",
       "      <td>35.0</td>\n",
       "      <td>3.639414</td>\n",
       "      <td>True</td>\n",
       "    </tr>\n",
       "    <tr>\n",
       "      <th>1</th>\n",
       "      <td>101</td>\n",
       "      <td>36297635338677003</td>\n",
       "      <td>2024-06-01</td>\n",
       "      <td>2024-06-02</td>\n",
       "      <td>37.0</td>\n",
       "      <td>4.004743</td>\n",
       "      <td>True</td>\n",
       "    </tr>\n",
       "    <tr>\n",
       "      <th>2</th>\n",
       "      <td>101</td>\n",
       "      <td>51254687980601498</td>\n",
       "      <td>2024-04-01</td>\n",
       "      <td>2024-04-12</td>\n",
       "      <td>42.0</td>\n",
       "      <td>4.081629</td>\n",
       "      <td>True</td>\n",
       "    </tr>\n",
       "    <tr>\n",
       "      <th>3</th>\n",
       "      <td>101</td>\n",
       "      <td>53567763105050586</td>\n",
       "      <td>2024-10-01</td>\n",
       "      <td>2024-10-31</td>\n",
       "      <td>38.0</td>\n",
       "      <td>4.012603</td>\n",
       "      <td>True</td>\n",
       "    </tr>\n",
       "    <tr>\n",
       "      <th>4</th>\n",
       "      <td>101</td>\n",
       "      <td>53567763105050586</td>\n",
       "      <td>2024-11-01</td>\n",
       "      <td>2024-11-05</td>\n",
       "      <td>46.0</td>\n",
       "      <td>4.613783</td>\n",
       "      <td>True</td>\n",
       "    </tr>\n",
       "    <tr>\n",
       "      <th>...</th>\n",
       "      <td>...</td>\n",
       "      <td>...</td>\n",
       "      <td>...</td>\n",
       "      <td>...</td>\n",
       "      <td>...</td>\n",
       "      <td>...</td>\n",
       "      <td>...</td>\n",
       "    </tr>\n",
       "    <tr>\n",
       "      <th>8602</th>\n",
       "      <td>180</td>\n",
       "      <td>938296014196475287</td>\n",
       "      <td>2024-06-01</td>\n",
       "      <td>2024-06-17</td>\n",
       "      <td>43.0</td>\n",
       "      <td>4.211624</td>\n",
       "      <td>True</td>\n",
       "    </tr>\n",
       "    <tr>\n",
       "      <th>8603</th>\n",
       "      <td>180</td>\n",
       "      <td>938296014196475287</td>\n",
       "      <td>2024-07-01</td>\n",
       "      <td>2024-07-04</td>\n",
       "      <td>43.0</td>\n",
       "      <td>3.953940</td>\n",
       "      <td>True</td>\n",
       "    </tr>\n",
       "    <tr>\n",
       "      <th>8604</th>\n",
       "      <td>180</td>\n",
       "      <td>942485310238374410</td>\n",
       "      <td>2024-01-01</td>\n",
       "      <td>2024-01-11</td>\n",
       "      <td>32.0</td>\n",
       "      <td>3.551931</td>\n",
       "      <td>True</td>\n",
       "    </tr>\n",
       "    <tr>\n",
       "      <th>8605</th>\n",
       "      <td>180</td>\n",
       "      <td>942485310238374410</td>\n",
       "      <td>2024-08-01</td>\n",
       "      <td>2024-08-30</td>\n",
       "      <td>37.0</td>\n",
       "      <td>3.785531</td>\n",
       "      <td>True</td>\n",
       "    </tr>\n",
       "    <tr>\n",
       "      <th>8606</th>\n",
       "      <td>180</td>\n",
       "      <td>942485310238374410</td>\n",
       "      <td>2024-09-01</td>\n",
       "      <td>2024-09-06</td>\n",
       "      <td>40.0</td>\n",
       "      <td>4.355215</td>\n",
       "      <td>True</td>\n",
       "    </tr>\n",
       "  </tbody>\n",
       "</table>\n",
       "<p>8607 rows × 7 columns</p>\n",
       "</div>"
      ]
     },
     "execution_count": 15,
     "metadata": {},
     "output_type": "execute_result"
    }
   ],
   "execution_count": 15
  },
  {
   "cell_type": "code",
   "id": "e9ed4f1fefffd29c",
   "metadata": {
    "ExecuteTime": {
     "end_time": "2025-01-15T16:56:56.702086Z",
     "start_time": "2025-01-15T16:56:45.994200Z"
    }
   },
   "source": [
    "%%save {project}.{dataset}.inventory_anomalies\n",
    "inventory_anomalies"
   ],
   "outputs": [],
   "execution_count": 16
  }
 ],
 "metadata": {
  "language_info": {
   "name": "python"
  },
  "kernelspec": {
   "name": "python3",
   "language": "python",
   "display_name": "Python 3 (ipykernel)"
  }
 },
 "nbformat": 4,
 "nbformat_minor": 5
}
