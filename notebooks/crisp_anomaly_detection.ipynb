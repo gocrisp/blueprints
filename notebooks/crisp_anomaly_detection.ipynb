{
 "cells": [
  {
   "cell_type": "markdown",
   "id": "a0e5b6b9",
   "metadata": {},
   "source": [
    "![Crisp](img/logo.png)\n",
    "# <img src=\"img/anomaly_detection.svg\" alt=\"icon\" width=\"40\"/> Anomaly Detection on Sales and Inventory Data\n",
    "\n",
    "[![Open in Colab](https://img.shields.io/badge/Open%20in-Colab-orange?logo=google-colab&style=for-the-badge)](https://colab.research.google.com/github/gocrisp/blueprints/blob/main/notebooks/crisp_anomaly_detection.ipynb)\n",
    "[![Open in Vertex AI](https://img.shields.io/badge/Open%20in-Vertex%20AI%20Workbench-brightgreen?logo=google-cloud&style=for-the-badge)](https://console.cloud.google.com/vertex-ai/notebooks/deploy-notebook?download_url=https://raw.githubusercontent.com/gocrisp/blueprints/main/notebooks/crisp_anomaly_detection.ipynb)\n",
    "[![Open in Databricks](https://img.shields.io/badge/Try-databricks-red?logo=databricks&style=for-the-badge)](https://www.databricks.com/try-databricks)\n",
    "[![View on GitHub](https://img.shields.io/badge/View%20on-GitHub-lightgrey?logo=github&style=for-the-badge)](https://github.com/gocrisp/blueprints/blob/main/notebooks/crisp_anomaly_detection.ipynb)\n",
    "\n",
    "> To deploy a notebook in Databricks:\n",
    "> 1. Open your workspace and navigate to the folder where you want to import the notebook.\n",
    "> 2. Click the triple-dot icon (next to the Share button).\n",
    "> 3. Select Import and choose URL as the import method.\n",
    "> 4. Paste the notebook's URL and click Import to complete the process.\n",
    "\n",
    "Detecting anomalies in your data can help you identify unexpected patterns like stockouts, sales spikes, or pricing errors, so you can take action to improve inefficiencies, capitalize on gains, or address problems. This notebook demonstrates how to perform naive outlier detection on sales and inventory data using z-scores. We will identify data points that are considered anomalies based on the criterion that their z-score exceeds |3.5| within time windows of sufficient size."
   ]
  },
  {
   "cell_type": "markdown",
   "id": "fde1d3d22790d866",
   "metadata": {},
   "source": [
    "## Set the required environment variables"
   ]
  },
  {
   "cell_type": "code",
   "id": "d7e8f597480edc2a",
   "metadata": {
    "ExecuteTime": {
     "end_time": "2025-01-15T16:56:19.086338Z",
     "start_time": "2025-01-15T16:56:19.084850Z"
    }
   },
   "source": [
    "import os\n",
    "\n",
    "os.environ[\"ACCOUNT_ID\"] = \"999999\"\n",
    "# os.environ[\"CONNECTOR_ID\"] = \"\" # optional\n",
    "\n",
    "fact_sales_table = \"exp_harmonized_retailer_fact_sales\"\n",
    "fact_inventory_table = \"exp_harmonized_retailer_fact_inventory_store\"\n",
    "\n",
    "retailer = \"target\""
   ],
   "outputs": [],
   "execution_count": 1
  },
  {
   "cell_type": "markdown",
   "id": "6f747ab78b09f2f9",
   "metadata": {},
   "source": [
    "### Run Crisp common\n",
    "\n",
    "This notebook uses the [crisp_common.ipynb](./crisp_common.ipynb) notebook to load the common functions and variables. The `crisp_common.ipynb` notebook contains the common functions and variables that are used across Crisp notebooks."
   ]
  },
  {
   "cell_type": "code",
   "id": "27a56c2047734eae",
   "metadata": {},
   "source": [
    "import os\n",
    "\n",
    "if not os.path.exists(\"crisp_common.ipynb\"):\n",
    "    print(\"Downloading crisp_common.ipynb\")\n",
    "    !wget https://raw.githubusercontent.com/gocrisp/blueprints/main/notebooks/crisp_common.ipynb -O crisp_common.ipynb\n",
    "else:\n",
    "    print(\"crisp_common.ipynb already exists\")\n",
    "\n",
    "%run crisp_common.ipynb"
   ],
   "outputs": [],
   "execution_count": null
  },
  {
   "cell_type": "markdown",
   "id": "979232c881565e62",
   "metadata": {},
   "source": [
    "## Run extra imports"
   ]
  },
  {
   "cell_type": "code",
   "id": "8ecc381a00da0bb2",
   "metadata": {
    "ExecuteTime": {
     "end_time": "2025-01-15T16:56:20.849381Z",
     "start_time": "2025-01-15T16:56:20.847308Z"
    }
   },
   "source": [
    "import numpy as np\n",
    "import matplotlib.pyplot as plt\n",
    "import seaborn as sns\n",
    "from scipy.stats import zscore\n",
    "from IPython.display import display\n",
    "import ipywidgets as widgets"
   ],
   "outputs": [],
   "execution_count": 3
  },
  {
   "cell_type": "markdown",
   "id": "d7085e19",
   "metadata": {},
   "source": [
    "### Load the data from BigQuery\n",
    "\n",
    "We'll load data from the `fact_sales` and `fact_inventory` tables."
   ]
  },
  {
   "cell_type": "code",
   "id": "ce29e8ae",
   "metadata": {
    "ExecuteTime": {
     "end_time": "2025-01-15T16:56:26.783581Z",
     "start_time": "2025-01-15T16:56:20.852951Z"
    }
   },
   "source": [
    "%%load sales_df\n",
    "SELECT\n",
    "    DATE(date_key) AS date,\n",
    "    DATE_TRUNC(DATE(date_key), MONTH) AS time_window,\n",
    "    store_id,\n",
    "    product_id,\n",
    "    sales_quantity\n",
    "FROM\n",
    "    `{project}`.`{dataset}`.`{fact_sales_table}`\n",
    "WHERE\n",
    "    sales_quantity IS NOT NULL\n",
    "    AND retailer = '{retailer}'"
   ],
   "outputs": [],
   "execution_count": 4
  },
  {
   "cell_type": "code",
   "id": "6231aa49fdb2581d",
   "metadata": {
    "ExecuteTime": {
     "end_time": "2025-01-15T16:56:32.955613Z",
     "start_time": "2025-01-15T16:56:26.791286Z"
    }
   },
   "source": [
    "%%load inventory_df\n",
    "SELECT\n",
    "    DATE(date_key) AS date,\n",
    "    DATE_TRUNC(DATE(date_key), MONTH) AS time_window,\n",
    "    store_id,\n",
    "    product_id,\n",
    "    on_hand_quantity AS inventory_quantity\n",
    "FROM\n",
    "    `{project}`.`{dataset}`.`{fact_inventory_table}`\n",
    "WHERE\n",
    "    on_hand_quantity IS NOT NULL\n",
    "    AND retailer = '{retailer}'"
   ],
   "outputs": [],
   "execution_count": 5
  },
  {
   "metadata": {},
   "cell_type": "markdown",
   "source": [
    "### Perform anomaly detection using z-scores\n",
    "\n",
    "For each time window (in this case each month) and product, we'll compute the z-score of `sales_quantity` and identify outliers where the absolute z-score exceeds 3.5."
   ],
   "id": "5dad47196fd34ed"
  },
  {
   "cell_type": "code",
   "id": "7dc75674f0c1d5b2",
   "metadata": {},
   "source": [
    "# Function to compute z-scores and identify outliers\n",
    "def detect_outliers(group):\n",
    "    if len(group) > 30:\n",
    "        group[\"z_score\"] = zscore(group[\"sales_quantity\"])\n",
    "        group[\"outlier\"] = group[\"z_score\"].abs() > 3.5\n",
    "    else:\n",
    "        group[\"z_score\"] = np.nan\n",
    "        group[\"outlier\"] = False\n",
    "    return group\n",
    "\n",
    "\n",
    "sales_df[\"sales_quantity\"] = sales_df[\"sales_quantity\"].astype(float)\n",
    "\n",
    "# Apply the function to each product within each time window\n",
    "grouped_sales = (\n",
    "    sales_df.groupby([\"time_window\", \"product_id\"], as_index=False)\n",
    "    .apply(detect_outliers)\n",
    "    .reset_index(drop=True)\n",
    ")"
   ],
   "outputs": [],
   "execution_count": null
  },
  {
   "metadata": {},
   "cell_type": "markdown",
   "source": "We will then calculate the total number and percentage of anomalies in the dataset.\n",
   "id": "6edaa6f14f5e59df"
  },
  {
   "cell_type": "code",
   "id": "7374eb3bbd094c46",
   "metadata": {
    "ExecuteTime": {
     "end_time": "2025-01-15T16:56:34.672083Z",
     "start_time": "2025-01-15T16:56:34.200734Z"
    }
   },
   "source": [
    "sales_anomalies = grouped_sales[grouped_sales[\"outlier\"]]\n",
    "sales_anomalies = (\n",
    "    sales_anomalies.groupby([\"product_id\", \"store_id\", \"time_window\"])\n",
    "    .last()\n",
    "    .reset_index()\n",
    ")\n",
    "\n",
    "print(f\"Number of anomalies detected in sales data: {len(sales_anomalies)}\")\n",
    "sales_anomalies.head()\n",
    "\n",
    "print(f\"Number of anomalies detected in sales data: {len(sales_anomalies)}\")\n",
    "print(f\"Total number of sales data points: {len(sales_df)}\")\n",
    "print(\n",
    "    f\"Anomalies as a percentage of total sales data: {len(sales_anomalies) / len(sales_df) * 100:.2f}%\"\n",
    ")"
   ],
   "outputs": [
    {
     "name": "stdout",
     "output_type": "stream",
     "text": [
      "Number of anomalies detected in sales data: 28891\n",
      "Number of anomalies detected in sales data: 28891\n",
      "Total number of sales data points: 5168400\n",
      "Anomalies as a percentage of total sales data: 0.56%\n"
     ]
    }
   ],
   "execution_count": 7
  },
  {
   "cell_type": "markdown",
   "id": "c65907fdd82e7184",
   "metadata": {},
   "source": [
    "### Visualize the anomalies in sales data\n",
    "\n",
    "We will plot the sales quantities over time for a specific product and highlight the anomalies."
   ]
  },
  {
   "cell_type": "code",
   "id": "3384214495c03348",
   "metadata": {
    "ExecuteTime": {
     "end_time": "2025-01-15T16:56:35.354971Z",
     "start_time": "2025-01-15T16:56:34.679044Z"
    }
   },
   "source": [
    "if not sales_anomalies.empty:\n",
    "    # Prepare dropdown options\n",
    "    options = []\n",
    "    for _, row in sales_anomalies.iterrows():\n",
    "        label = f\"Product {row['product_id']} | Store {row['store_id']}\"\n",
    "        value = (row[\"product_id\"], row[\"store_id\"])\n",
    "        options.append((label, value))\n",
    "\n",
    "    # Create a dropdown widget\n",
    "    product_dropdown = widgets.Dropdown(options=options, description=\"Select Product:\")\n",
    "\n",
    "    # Define a function to update the plot based on the selected product\n",
    "    def update_sales_plot(product_and_store):\n",
    "        product_id, store_id = product_and_store\n",
    "        product_data = grouped_sales[\n",
    "            (grouped_sales[\"product_id\"] == product_id)\n",
    "            & (grouped_sales[\"store_id\"] == store_id)\n",
    "        ].copy()\n",
    "        if product_data.empty:\n",
    "            print(f\"No data available for Product {product_id} and Store {store_id}.\")\n",
    "            return\n",
    "        # Ensure 'outlier' is boolean\n",
    "        product_data[\"outlier\"] = product_data[\"outlier\"].astype(bool)\n",
    "\n",
    "        # Plot sales quantity over time\n",
    "        plt.figure(figsize=(12, 6))\n",
    "        sns.lineplot(\n",
    "            data=product_data, x=\"date\", y=\"sales_quantity\", label=\"Sales Quantity\"\n",
    "        )\n",
    "\n",
    "        # Plot anomalies\n",
    "        anomalies = product_data[product_data[\"outlier\"]]\n",
    "        sns.scatterplot(\n",
    "            data=anomalies,\n",
    "            x=\"date\",\n",
    "            y=\"sales_quantity\",\n",
    "            color=\"red\",\n",
    "            label=\"Anomalies\",\n",
    "            s=100,\n",
    "        )\n",
    "        plt.title(\n",
    "            f\"Sales Quantity Over Time for Product {product_id} | Store {store_id}\"\n",
    "        )\n",
    "        plt.xlabel(\"Date\")\n",
    "        plt.ylabel(\"Sales Quantity\")\n",
    "        plt.legend()\n",
    "        display(plt.show())\n",
    "\n",
    "    # Create an interactive widget to update the plot\n",
    "    interactive_plot = widgets.interactive(\n",
    "        update_sales_plot, product_and_store=product_dropdown\n",
    "    )\n",
    "    display(interactive_plot)\n",
    "else:\n",
    "    print(\"No anomalies detected to visualize.\")"
   ],
   "outputs": [
    {
     "data": {
      "text/plain": [
       "interactive(children=(Dropdown(description='Select Product:', options=(('Product 101 | Store 1256909618105974'…"
      ],
      "application/vnd.jupyter.widget-view+json": {
       "version_major": 2,
       "version_minor": 0,
       "model_id": "19ee55ce62a94c8ca79c16a2950608db"
      }
     },
     "metadata": {},
     "output_type": "display_data"
    }
   ],
   "execution_count": 8
  },
  {
   "cell_type": "markdown",
   "id": "caad30fa",
   "metadata": {},
   "source": [
    "### Perform anomaly detection on inventory data (if needed)\n",
    "\n",
    "You can apply the same process to the inventory data."
   ]
  },
  {
   "cell_type": "code",
   "id": "d3674e07fd3ed863",
   "metadata": {},
   "source": [
    "# Function to compute z-scores and identify outliers\n",
    "def detect_outliers_inventory(group):\n",
    "    if len(group) > 30:\n",
    "        group[\"z_score\"] = zscore(group[\"inventory_quantity\"])\n",
    "        group[\"outlier\"] = group[\"z_score\"].abs() > 3.5\n",
    "    else:\n",
    "        group[\"z_score\"] = np.nan\n",
    "        group[\"outlier\"] = False\n",
    "    return group\n",
    "\n",
    "\n",
    "inventory_df[\"inventory_quantity\"] = inventory_df[\"inventory_quantity\"].astype(float)\n",
    "\n",
    "# Apply the function to each product within each time window\n",
    "grouped_inventory = (\n",
    "    inventory_df.groupby([\"time_window\", \"product_id\"], as_index=False)\n",
    "    .apply(detect_outliers_inventory)\n",
    "    .reset_index(drop=True)\n",
    ")"
   ],
   "outputs": [],
   "execution_count": null
  },
  {
   "cell_type": "markdown",
   "id": "1960ad60d8dea492",
   "metadata": {},
   "source": [
    "### Examine the anomalies in inventory data"
   ]
  },
  {
   "cell_type": "code",
   "id": "9ab6a85e",
   "metadata": {
    "ExecuteTime": {
     "end_time": "2025-01-15T16:56:36.888484Z",
     "start_time": "2025-01-15T16:56:36.747073Z"
    }
   },
   "source": [
    "inventory_anomalies = grouped_inventory[grouped_inventory[\"outlier\"]]\n",
    "inventory_anomalies = (\n",
    "    inventory_anomalies.groupby([\"product_id\", \"store_id\", \"time_window\"])\n",
    "    .last()\n",
    "    .reset_index()\n",
    ")\n",
    "\n",
    "print(f\"Number of anomalies detected in inventory data: {len(inventory_anomalies)}\")\n",
    "inventory_anomalies.head()\n",
    "\n",
    "print(f\"Number of anomalies detected in inventory data: {len(inventory_anomalies)}\")\n",
    "print(f\"Total number of inventory data points: {len(inventory_df)}\")\n",
    "print(\n",
    "    f\"Anomalies as a percentage of total inventory data: {len(inventory_anomalies) / len(inventory_df) * 100:.2f}%\"\n",
    ")"
   ],
   "outputs": [
    {
     "name": "stdout",
     "output_type": "stream",
     "text": [
      "Number of anomalies detected in inventory data: 8607\n",
      "Number of anomalies detected in inventory data: 8607\n",
      "Total number of inventory data points: 5168400\n",
      "Anomalies as a percentage of total inventory data: 0.17%\n"
     ]
    }
   ],
   "execution_count": 10
  },
  {
   "cell_type": "markdown",
   "id": "a4dd0bd8",
   "metadata": {},
   "source": [
    "### Visualize the anomalies in inventory data"
   ]
  },
  {
   "cell_type": "code",
   "id": "39907176",
   "metadata": {
    "ExecuteTime": {
     "end_time": "2025-01-15T16:56:37.213643Z",
     "start_time": "2025-01-15T16:56:36.919612Z"
    }
   },
   "source": [
    "if not inventory_anomalies.empty:\n",
    "    # Prepare dropdown options\n",
    "    options = []\n",
    "    for _, row in inventory_anomalies.iterrows():\n",
    "        label = f\"Product {row['product_id']} | Store {row['store_id']}\"\n",
    "        value = (row[\"product_id\"], row[\"store_id\"])\n",
    "        options.append((label, value))\n",
    "\n",
    "    # Create a dropdown widget\n",
    "    product_dropdown = widgets.Dropdown(options=options, description=\"Select Product:\")\n",
    "\n",
    "    # Define a function to update the plot based on the selected product\n",
    "    def update_inventory_plot(product_and_store):\n",
    "        product_id, store_id = product_and_store\n",
    "        product_data = grouped_inventory[\n",
    "            (grouped_inventory[\"product_id\"] == product_id)\n",
    "            & (grouped_inventory[\"store_id\"] == store_id)\n",
    "        ].copy()\n",
    "\n",
    "        if product_data.empty:\n",
    "            print(f\"No data available for Product {product_id} and Store {store_id}.\")\n",
    "            return\n",
    "\n",
    "        # Ensure 'outlier' is boolean\n",
    "        product_data[\"outlier\"] = product_data[\"outlier\"].astype(bool)\n",
    "\n",
    "        # Plot inventory quantity over time\n",
    "        plt.figure(figsize=(12, 6))\n",
    "        sns.lineplot(\n",
    "            data=product_data,\n",
    "            x=\"date\",\n",
    "            y=\"inventory_quantity\",\n",
    "            label=\"Inventory Quantity\",\n",
    "        )\n",
    "\n",
    "        # Plot anomalies\n",
    "        anomalies = product_data[product_data[\"outlier\"]]\n",
    "        sns.scatterplot(\n",
    "            data=anomalies,\n",
    "            x=\"date\",\n",
    "            y=\"inventory_quantity\",\n",
    "            color=\"red\",\n",
    "            label=\"Anomalies\",\n",
    "            s=100,\n",
    "        )\n",
    "        plt.title(\n",
    "            f\"Inventory Quantity Over Time for Product {product_id} | Store {store_id}\"\n",
    "        )\n",
    "        plt.xlabel(\"Date\")\n",
    "        plt.ylabel(\"Inventory Quantity\")\n",
    "        plt.legend()\n",
    "        display(plt.show())\n",
    "\n",
    "    # Create an interactive widget to update the plot\n",
    "    interactive_plot = widgets.interactive(\n",
    "        update_inventory_plot, product_and_store=product_dropdown\n",
    "    )\n",
    "    display(interactive_plot)\n",
    "else:\n",
    "    print(\"No anomalies detected to visualize.\")"
   ],
   "outputs": [
    {
     "data": {
      "text/plain": [
       "interactive(children=(Dropdown(description='Select Product:', options=(('Product 101 | Store 7243408426042915'…"
      ],
      "application/vnd.jupyter.widget-view+json": {
       "version_major": 2,
       "version_minor": 0,
       "model_id": "f472068037724d049eaf67222404d452"
      }
     },
     "metadata": {},
     "output_type": "display_data"
    }
   ],
   "execution_count": 11
  },
  {
   "cell_type": "markdown",
   "id": "3b5c8bd9",
   "metadata": {},
   "source": [
    "### Save or report the anomalies"
   ]
  },
  {
   "cell_type": "markdown",
   "id": "ab773afa",
   "metadata": {},
   "source": [
    "#### Save anomalies to CSV files"
   ]
  },
  {
   "cell_type": "code",
   "id": "3271ef62",
   "metadata": {
    "ExecuteTime": {
     "end_time": "2025-01-15T16:56:37.504939Z",
     "start_time": "2025-01-15T16:56:37.230414Z"
    }
   },
   "source": [
    "# Save sales anomalies to a CSV file\n",
    "sales_anomalies.to_csv(\"sales_anomalies.csv\", index=False)\n",
    "print(\"Sales anomalies saved to 'sales_anomalies.csv'.\")\n",
    "\n",
    "# Save inventory anomalies to a CSV file\n",
    "inventory_anomalies.to_csv(\"inventory_anomalies.csv\", index=False)\n",
    "print(\"Inventory anomalies saved to 'inventory_anomalies.csv'.\")"
   ],
   "outputs": [
    {
     "name": "stdout",
     "output_type": "stream",
     "text": [
      "Sales anomalies saved to 'sales_anomalies.csv'.\n",
      "Inventory anomalies saved to 'inventory_anomalies.csv'.\n"
     ]
    }
   ],
   "execution_count": 12
  },
  {
   "cell_type": "markdown",
   "id": "3e15bdcf",
   "metadata": {},
   "source": [
    "#### Save anomalies to your data warehouse"
   ]
  },
  {
   "cell_type": "code",
   "id": "c0573ce6229d2949",
   "metadata": {
    "ExecuteTime": {
     "end_time": "2025-01-15T16:56:37.525653Z",
     "start_time": "2025-01-15T16:56:37.520213Z"
    }
   },
   "source": [
    "sales_anomalies"
   ],
   "outputs": [
    {
     "data": {
      "text/plain": [
       "       product_id            store_id time_window        date  sales_quantity  \\\n",
       "0             101    1256909618105974  2024-01-01  2024-01-02             6.0   \n",
       "1             101    1256909618105974  2024-04-01  2024-04-21             6.0   \n",
       "2             101    1256909618105974  2024-05-01  2024-05-04             6.0   \n",
       "3             101    1256909618105974  2024-08-01  2024-08-20             6.0   \n",
       "4             101    2893058682334322  2024-04-01  2024-04-24             6.0   \n",
       "...           ...                 ...         ...         ...             ...   \n",
       "28886         180  974851238042301426  2024-05-01  2024-05-10             6.0   \n",
       "28887         180  974851238042301426  2024-07-01  2024-07-14             6.0   \n",
       "28888         180  974851238042301426  2024-11-01  2024-11-06             7.0   \n",
       "28889         180  979316279447426146  2024-05-01  2024-05-06             8.0   \n",
       "28890         180  979316279447426146  2024-10-01  2024-10-05             7.0   \n",
       "\n",
       "        z_score  outlier  \n",
       "0      3.521871     True  \n",
       "1      3.604485     True  \n",
       "2      3.637330     True  \n",
       "3      3.600564     True  \n",
       "4      3.604485     True  \n",
       "...         ...      ...  \n",
       "28886  3.564098     True  \n",
       "28887  3.698851     True  \n",
       "28888  4.395046     True  \n",
       "28889  5.005446     True  \n",
       "28890  4.573049     True  \n",
       "\n",
       "[28891 rows x 7 columns]"
      ],
      "text/html": [
       "<div>\n",
       "<style scoped>\n",
       "    .dataframe tbody tr th:only-of-type {\n",
       "        vertical-align: middle;\n",
       "    }\n",
       "\n",
       "    .dataframe tbody tr th {\n",
       "        vertical-align: top;\n",
       "    }\n",
       "\n",
       "    .dataframe thead th {\n",
       "        text-align: right;\n",
       "    }\n",
       "</style>\n",
       "<table border=\"1\" class=\"dataframe\">\n",
       "  <thead>\n",
       "    <tr style=\"text-align: right;\">\n",
       "      <th></th>\n",
       "      <th>product_id</th>\n",
       "      <th>store_id</th>\n",
       "      <th>time_window</th>\n",
       "      <th>date</th>\n",
       "      <th>sales_quantity</th>\n",
       "      <th>z_score</th>\n",
       "      <th>outlier</th>\n",
       "    </tr>\n",
       "  </thead>\n",
       "  <tbody>\n",
       "    <tr>\n",
       "      <th>0</th>\n",
       "      <td>101</td>\n",
       "      <td>1256909618105974</td>\n",
       "      <td>2024-01-01</td>\n",
       "      <td>2024-01-02</td>\n",
       "      <td>6.0</td>\n",
       "      <td>3.521871</td>\n",
       "      <td>True</td>\n",
       "    </tr>\n",
       "    <tr>\n",
       "      <th>1</th>\n",
       "      <td>101</td>\n",
       "      <td>1256909618105974</td>\n",
       "      <td>2024-04-01</td>\n",
       "      <td>2024-04-21</td>\n",
       "      <td>6.0</td>\n",
       "      <td>3.604485</td>\n",
       "      <td>True</td>\n",
       "    </tr>\n",
       "    <tr>\n",
       "      <th>2</th>\n",
       "      <td>101</td>\n",
       "      <td>1256909618105974</td>\n",
       "      <td>2024-05-01</td>\n",
       "      <td>2024-05-04</td>\n",
       "      <td>6.0</td>\n",
       "      <td>3.637330</td>\n",
       "      <td>True</td>\n",
       "    </tr>\n",
       "    <tr>\n",
       "      <th>3</th>\n",
       "      <td>101</td>\n",
       "      <td>1256909618105974</td>\n",
       "      <td>2024-08-01</td>\n",
       "      <td>2024-08-20</td>\n",
       "      <td>6.0</td>\n",
       "      <td>3.600564</td>\n",
       "      <td>True</td>\n",
       "    </tr>\n",
       "    <tr>\n",
       "      <th>4</th>\n",
       "      <td>101</td>\n",
       "      <td>2893058682334322</td>\n",
       "      <td>2024-04-01</td>\n",
       "      <td>2024-04-24</td>\n",
       "      <td>6.0</td>\n",
       "      <td>3.604485</td>\n",
       "      <td>True</td>\n",
       "    </tr>\n",
       "    <tr>\n",
       "      <th>...</th>\n",
       "      <td>...</td>\n",
       "      <td>...</td>\n",
       "      <td>...</td>\n",
       "      <td>...</td>\n",
       "      <td>...</td>\n",
       "      <td>...</td>\n",
       "      <td>...</td>\n",
       "    </tr>\n",
       "    <tr>\n",
       "      <th>28886</th>\n",
       "      <td>180</td>\n",
       "      <td>974851238042301426</td>\n",
       "      <td>2024-05-01</td>\n",
       "      <td>2024-05-10</td>\n",
       "      <td>6.0</td>\n",
       "      <td>3.564098</td>\n",
       "      <td>True</td>\n",
       "    </tr>\n",
       "    <tr>\n",
       "      <th>28887</th>\n",
       "      <td>180</td>\n",
       "      <td>974851238042301426</td>\n",
       "      <td>2024-07-01</td>\n",
       "      <td>2024-07-14</td>\n",
       "      <td>6.0</td>\n",
       "      <td>3.698851</td>\n",
       "      <td>True</td>\n",
       "    </tr>\n",
       "    <tr>\n",
       "      <th>28888</th>\n",
       "      <td>180</td>\n",
       "      <td>974851238042301426</td>\n",
       "      <td>2024-11-01</td>\n",
       "      <td>2024-11-06</td>\n",
       "      <td>7.0</td>\n",
       "      <td>4.395046</td>\n",
       "      <td>True</td>\n",
       "    </tr>\n",
       "    <tr>\n",
       "      <th>28889</th>\n",
       "      <td>180</td>\n",
       "      <td>979316279447426146</td>\n",
       "      <td>2024-05-01</td>\n",
       "      <td>2024-05-06</td>\n",
       "      <td>8.0</td>\n",
       "      <td>5.005446</td>\n",
       "      <td>True</td>\n",
       "    </tr>\n",
       "    <tr>\n",
       "      <th>28890</th>\n",
       "      <td>180</td>\n",
       "      <td>979316279447426146</td>\n",
       "      <td>2024-10-01</td>\n",
       "      <td>2024-10-05</td>\n",
       "      <td>7.0</td>\n",
       "      <td>4.573049</td>\n",
       "      <td>True</td>\n",
       "    </tr>\n",
       "  </tbody>\n",
       "</table>\n",
       "<p>28891 rows × 7 columns</p>\n",
       "</div>"
      ]
     },
     "execution_count": 13,
     "metadata": {},
     "output_type": "execute_result"
    }
   ],
   "execution_count": 13
  },
  {
   "cell_type": "code",
   "id": "ace2884f306484ff",
   "metadata": {
    "ExecuteTime": {
     "end_time": "2025-01-15T16:56:45.920202Z",
     "start_time": "2025-01-15T16:56:37.553972Z"
    }
   },
   "source": [
    "%%save {project}.{dataset}.sales_anomalies\n",
    "sales_anomalies"
   ],
   "outputs": [],
   "execution_count": 14
  },
  {
   "cell_type": "code",
   "id": "398ebd897cd154d9",
   "metadata": {
    "ExecuteTime": {
     "end_time": "2025-01-15T16:56:45.964214Z",
     "start_time": "2025-01-15T16:56:45.958133Z"
    }
   },
   "source": [
    "inventory_anomalies"
   ],
   "outputs": [
    {
     "data": {
      "text/plain": [
       "      product_id            store_id time_window        date  \\\n",
       "0            101    7243408426042915  2024-10-01  2024-10-28   \n",
       "1            101   36297635338677003  2024-06-01  2024-06-02   \n",
       "2            101   51254687980601498  2024-04-01  2024-04-12   \n",
       "3            101   53567763105050586  2024-10-01  2024-10-31   \n",
       "4            101   53567763105050586  2024-11-01  2024-11-05   \n",
       "...          ...                 ...         ...         ...   \n",
       "8602         180  938296014196475287  2024-06-01  2024-06-17   \n",
       "8603         180  938296014196475287  2024-07-01  2024-07-04   \n",
       "8604         180  942485310238374410  2024-01-01  2024-01-11   \n",
       "8605         180  942485310238374410  2024-08-01  2024-08-30   \n",
       "8606         180  942485310238374410  2024-09-01  2024-09-06   \n",
       "\n",
       "      inventory_quantity   z_score  outlier  \n",
       "0                   35.0  3.639414     True  \n",
       "1                   37.0  4.004743     True  \n",
       "2                   42.0  4.081629     True  \n",
       "3                   38.0  4.012603     True  \n",
       "4                   46.0  4.613783     True  \n",
       "...                  ...       ...      ...  \n",
       "8602                43.0  4.211624     True  \n",
       "8603                43.0  3.953940     True  \n",
       "8604                32.0  3.551931     True  \n",
       "8605                37.0  3.785531     True  \n",
       "8606                40.0  4.355215     True  \n",
       "\n",
       "[8607 rows x 7 columns]"
      ],
      "text/html": [
       "<div>\n",
       "<style scoped>\n",
       "    .dataframe tbody tr th:only-of-type {\n",
       "        vertical-align: middle;\n",
       "    }\n",
       "\n",
       "    .dataframe tbody tr th {\n",
       "        vertical-align: top;\n",
       "    }\n",
       "\n",
       "    .dataframe thead th {\n",
       "        text-align: right;\n",
       "    }\n",
       "</style>\n",
       "<table border=\"1\" class=\"dataframe\">\n",
       "  <thead>\n",
       "    <tr style=\"text-align: right;\">\n",
       "      <th></th>\n",
       "      <th>product_id</th>\n",
       "      <th>store_id</th>\n",
       "      <th>time_window</th>\n",
       "      <th>date</th>\n",
       "      <th>inventory_quantity</th>\n",
       "      <th>z_score</th>\n",
       "      <th>outlier</th>\n",
       "    </tr>\n",
       "  </thead>\n",
       "  <tbody>\n",
       "    <tr>\n",
       "      <th>0</th>\n",
       "      <td>101</td>\n",
       "      <td>7243408426042915</td>\n",
       "      <td>2024-10-01</td>\n",
       "      <td>2024-10-28</td>\n",
       "      <td>35.0</td>\n",
       "      <td>3.639414</td>\n",
       "      <td>True</td>\n",
       "    </tr>\n",
       "    <tr>\n",
       "      <th>1</th>\n",
       "      <td>101</td>\n",
       "      <td>36297635338677003</td>\n",
       "      <td>2024-06-01</td>\n",
       "      <td>2024-06-02</td>\n",
       "      <td>37.0</td>\n",
       "      <td>4.004743</td>\n",
       "      <td>True</td>\n",
       "    </tr>\n",
       "    <tr>\n",
       "      <th>2</th>\n",
       "      <td>101</td>\n",
       "      <td>51254687980601498</td>\n",
       "      <td>2024-04-01</td>\n",
       "      <td>2024-04-12</td>\n",
       "      <td>42.0</td>\n",
       "      <td>4.081629</td>\n",
       "      <td>True</td>\n",
       "    </tr>\n",
       "    <tr>\n",
       "      <th>3</th>\n",
       "      <td>101</td>\n",
       "      <td>53567763105050586</td>\n",
       "      <td>2024-10-01</td>\n",
       "      <td>2024-10-31</td>\n",
       "      <td>38.0</td>\n",
       "      <td>4.012603</td>\n",
       "      <td>True</td>\n",
       "    </tr>\n",
       "    <tr>\n",
       "      <th>4</th>\n",
       "      <td>101</td>\n",
       "      <td>53567763105050586</td>\n",
       "      <td>2024-11-01</td>\n",
       "      <td>2024-11-05</td>\n",
       "      <td>46.0</td>\n",
       "      <td>4.613783</td>\n",
       "      <td>True</td>\n",
       "    </tr>\n",
       "    <tr>\n",
       "      <th>...</th>\n",
       "      <td>...</td>\n",
       "      <td>...</td>\n",
       "      <td>...</td>\n",
       "      <td>...</td>\n",
       "      <td>...</td>\n",
       "      <td>...</td>\n",
       "      <td>...</td>\n",
       "    </tr>\n",
       "    <tr>\n",
       "      <th>8602</th>\n",
       "      <td>180</td>\n",
       "      <td>938296014196475287</td>\n",
       "      <td>2024-06-01</td>\n",
       "      <td>2024-06-17</td>\n",
       "      <td>43.0</td>\n",
       "      <td>4.211624</td>\n",
       "      <td>True</td>\n",
       "    </tr>\n",
       "    <tr>\n",
       "      <th>8603</th>\n",
       "      <td>180</td>\n",
       "      <td>938296014196475287</td>\n",
       "      <td>2024-07-01</td>\n",
       "      <td>2024-07-04</td>\n",
       "      <td>43.0</td>\n",
       "      <td>3.953940</td>\n",
       "      <td>True</td>\n",
       "    </tr>\n",
       "    <tr>\n",
       "      <th>8604</th>\n",
       "      <td>180</td>\n",
       "      <td>942485310238374410</td>\n",
       "      <td>2024-01-01</td>\n",
       "      <td>2024-01-11</td>\n",
       "      <td>32.0</td>\n",
       "      <td>3.551931</td>\n",
       "      <td>True</td>\n",
       "    </tr>\n",
       "    <tr>\n",
       "      <th>8605</th>\n",
       "      <td>180</td>\n",
       "      <td>942485310238374410</td>\n",
       "      <td>2024-08-01</td>\n",
       "      <td>2024-08-30</td>\n",
       "      <td>37.0</td>\n",
       "      <td>3.785531</td>\n",
       "      <td>True</td>\n",
       "    </tr>\n",
       "    <tr>\n",
       "      <th>8606</th>\n",
       "      <td>180</td>\n",
       "      <td>942485310238374410</td>\n",
       "      <td>2024-09-01</td>\n",
       "      <td>2024-09-06</td>\n",
       "      <td>40.0</td>\n",
       "      <td>4.355215</td>\n",
       "      <td>True</td>\n",
       "    </tr>\n",
       "  </tbody>\n",
       "</table>\n",
       "<p>8607 rows × 7 columns</p>\n",
       "</div>"
      ]
     },
     "execution_count": 15,
     "metadata": {},
     "output_type": "execute_result"
    }
   ],
   "execution_count": 15
  },
  {
   "cell_type": "code",
   "id": "e9ed4f1fefffd29c",
   "metadata": {
    "ExecuteTime": {
     "end_time": "2025-01-15T16:56:56.702086Z",
     "start_time": "2025-01-15T16:56:45.994200Z"
    }
   },
   "source": [
    "%%save {project}.{dataset}.inventory_anomalies\n",
    "inventory_anomalies"
   ],
   "outputs": [],
   "execution_count": 16
  }
 ],
 "metadata": {
  "language_info": {
   "name": "python"
  },
  "kernelspec": {
   "name": "python3",
   "language": "python",
   "display_name": "Python 3 (ipykernel)"
  }
 },
 "nbformat": 4,
 "nbformat_minor": 5
}
