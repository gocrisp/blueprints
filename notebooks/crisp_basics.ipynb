{
 "cells": [
  {
   "cell_type": "markdown",
   "metadata": {
    "application/vnd.databricks.v1+cell": {
     "cellMetadata": {
      "byteLimit": 2048000,
      "rowLimit": 10000
     },
     "inputWidgets": {},
     "nuid": "0d4fc465-765f-4641-9b86-a36e1ff91a3b",
     "showTitle": false,
     "title": ""
    }
   },
   "source": [
    "# Crisp basics\n",
    "\n",
    "This page shows you how to get started with Crisp blueprints\n",
    "\n",
    "[![Open in Colab](https://img.shields.io/badge/Open%20in-Colab-orange?logo=google-colab&style=for-the-badge)](https://colab.research.google.com/github/gocrisp/blueprints/blob/main/notebooks/crisp_basics.ipynb)\n",
    "[![Open in Vertex AI](https://img.shields.io/badge/Open%20in-Vertex%20AI%20Workbench-brightgreen?logo=google-cloud&style=for-the-badge)](https://console.cloud.google.com/vertex-ai/notebooks/deploy-notebook?download_url=https://raw.githubusercontent.com/gocrisp/blueprints/main/notebooks/crisp_basics.ipynb)\n",
    "[![Open in Databricks](https://img.shields.io/badge/databricks-red?logo=databricks&style=for-the-badge)](https://www.databricks.com/try-databricks)\n",
    "[![View on GitHub](https://img.shields.io/badge/View%20on-GitHub-lightgrey?logo=github&style=for-the-badge)](https://github.com/gocrisp/blueprints/blob/main/notebooks/crisp_basics.ipynb)\n",
    "\n"
   ]
  },
  {
   "metadata": {},
   "cell_type": "markdown",
   "source": "## Set the required environment variables"
  },
  {
   "metadata": {
    "ExecuteTime": {
     "end_time": "2024-12-03T11:14:49.624911Z",
     "start_time": "2024-12-03T11:14:49.623389Z"
    }
   },
   "cell_type": "code",
   "source": [
    "import os\n",
    "\n",
    "os.environ[\"ACCOUNT_ID\"] = \"80548\"\n",
    "os.environ[\"CONNECTOR_ID\"] = \"3378\"  # optional"
   ],
   "outputs": [],
   "execution_count": 1
  },
  {
   "metadata": {},
   "cell_type": "markdown",
   "source": [
    "### Run Crisp common\n",
    "\n",
    "This notebook uses the [crisp_common.ipynb](./crisp_common.ipynb) notebook to load the common functions and variables. The `crisp_common.ipynb` notebook contains the common functions and variables that are used across the Crisp notebooks."
   ]
  },
  {
   "metadata": {},
   "cell_type": "code",
   "source": [
    "import os\n",
    "\n",
    "if not os.path.exists(\"crisp_common.ipynb\"):\n",
    "    print(\"Downloading crisp_common.ipynb\")\n",
    "    !wget https://raw.githubusercontent.com/gocrisp/blueprints/main/notebooks/crisp_common.ipynb -O crisp_common.ipynb\n",
    "else:\n",
    "    print(\"crisp_common.ipynb already exists\")\n",
    "\n",
    "%run crisp_common.ipynb"
   ],
   "outputs": [],
   "execution_count": null
  },
  {
   "cell_type": "markdown",
   "metadata": {
    "application/vnd.databricks.v1+cell": {
     "cellMetadata": {},
     "inputWidgets": {},
     "nuid": "559a934b-249e-4c3b-a4d6-1663249d9d4e",
     "showTitle": false,
     "title": ""
    }
   },
   "source": [
    "## Load data into a DataFrame\n",
    "\n",
    "The following code loads data from a table into a DataFrame. \n",
    "Variables `project`, `dataset` are taken from the `crisp_common.ipynb` notebook. but you can also set them here."
   ]
  },
  {
   "cell_type": "code",
   "metadata": {
    "application/vnd.databricks.v1+cell": {
     "cellMetadata": {
      "byteLimit": 2048000,
      "rowLimit": 10000
     },
     "inputWidgets": {},
     "nuid": "18376142-b0e3-4fd2-b133-5113df71f859",
     "showTitle": false,
     "title": ""
    },
    "ExecuteTime": {
     "end_time": "2024-12-03T11:14:51.604798Z",
     "start_time": "2024-12-03T11:14:51.602947Z"
    }
   },
   "source": [
    "# project = 'your_project'\n",
    "# dataset = 'your_dataset'\n",
    "table = \"normalized_unfi_fact_sales\"\n",
    "\n",
    "print(\"Loading data from {}.{}.{}\".format(project, dataset, table))"
   ],
   "outputs": [
    {
     "name": "stdout",
     "output_type": "stream",
     "text": [
      "Loading data from crisp-frontier-dev.analytics_blueprints_80548.normalized_unfi_fact_sales\n"
     ]
    }
   ],
   "execution_count": 3
  },
  {
   "cell_type": "code",
   "metadata": {
    "application/vnd.databricks.v1+cell": {
     "cellMetadata": {
      "byteLimit": 2048000,
      "rowLimit": 10000
     },
     "inputWidgets": {},
     "nuid": "5b30ef6f-b6dd-4176-91d8-e798d8ca5cdc",
     "showTitle": false,
     "title": ""
    },
    "ExecuteTime": {
     "end_time": "2024-12-03T11:14:56.339100Z",
     "start_time": "2024-12-03T11:14:51.608806Z"
    }
   },
   "source": [
    "%%load df\n",
    "SELECT * FROM `{project}`.`{dataset}`.`{table}` LIMIT 10"
   ],
   "outputs": [],
   "execution_count": 4
  },
  {
   "cell_type": "code",
   "metadata": {
    "application/vnd.databricks.v1+cell": {
     "cellMetadata": {
      "byteLimit": 2048000,
      "rowLimit": 10000
     },
     "inputWidgets": {},
     "nuid": "b80f5925-1267-4ef7-b6d9-b9ad9b0c2b0c",
     "showTitle": false,
     "title": ""
    },
    "ExecuteTime": {
     "end_time": "2024-12-03T11:14:56.361651Z",
     "start_time": "2024-12-03T11:14:56.352176Z"
    }
   },
   "source": [
    "display(df)"
   ],
   "outputs": [
    {
     "data": {
      "text/plain": [
       "   account_id connector_config_id           channel_id    date_key  \\\n",
       "0       80548                  82  9221995035584428660  2020-04-05   \n",
       "1       80548                  82  9221995035584428660  2020-05-03   \n",
       "2       80548                  82  9221995035584428660  2020-03-08   \n",
       "3       80548                  82  9221995035584428660  2020-03-01   \n",
       "4       80548                  82  9221995035584428660  2020-06-07   \n",
       "5       80548                  82  9221995035584428660  2020-03-08   \n",
       "6       80548                  82  6783875957240731496  2020-08-02   \n",
       "7       80548                  82  6783875957240731496  2020-05-10   \n",
       "8       80548                  82  8802252399211565501  2020-04-05   \n",
       "9       80548                  82  8802252399211565501  2020-03-08   \n",
       "\n",
       "                 dc_id  is_first_purchase           product_id  sales_amount  \\\n",
       "0  3475258104728469248              False  4001433058368439128         39.83   \n",
       "1  3475258104728469248              False  4065777199066685072         40.16   \n",
       "2  3475258104728469248              False  6079228713510413679         23.75   \n",
       "3  3475258104728469248               True  2882915166545356769         39.83   \n",
       "4  3475258104728469248              False  7005387553611591933         32.66   \n",
       "5  3475258104728469248              False  4065777199066685072         40.16   \n",
       "6  3475258104728469248              False  6079228713510413679         36.93   \n",
       "7  3475258104728469248              False  6079228713510413679         40.95   \n",
       "8  3475258104728469248              False  6079228713510413679         28.89   \n",
       "9  3475258104728469248               True  6079228713510413679         34.48   \n",
       "\n",
       "              sales_id  sales_quantity             store_id  \\\n",
       "0  2016740781568767598             2.0  3775738315386423810   \n",
       "1  8418246900861692640             2.0  3775738315386423810   \n",
       "2  8084158043312151039             2.0  3775738315386423810   \n",
       "3  2564654221828368863             2.0  3775738315386423810   \n",
       "4  2782437254778047654             2.0  3775738315386423810   \n",
       "5  7749986086792519715             2.0  3775738315386423810   \n",
       "6  5560291402395423046             2.0  4143340026718314243   \n",
       "7  9065978831707661471             2.0  3651889994219835910   \n",
       "8  4385233044043201791             2.0  8158541374731853063   \n",
       "9  8547972509903588845             2.0  8158541374731853063   \n",
       "\n",
       "                uom_id  whole_sale_price  \n",
       "0  7490622694260177996             71.10  \n",
       "1  7490622694260177996             69.76  \n",
       "2  7490622694260177996             42.38  \n",
       "3  7490622694260177996             71.10  \n",
       "4  7490622694260177996             58.47  \n",
       "5  7490622694260177996             69.76  \n",
       "6  7490622694260177996             42.38  \n",
       "7  7490622694260177996             42.38  \n",
       "8  7490622694260177996             42.38  \n",
       "9  7490622694260177996             42.38  "
      ],
      "text/html": [
       "<div>\n",
       "<style scoped>\n",
       "    .dataframe tbody tr th:only-of-type {\n",
       "        vertical-align: middle;\n",
       "    }\n",
       "\n",
       "    .dataframe tbody tr th {\n",
       "        vertical-align: top;\n",
       "    }\n",
       "\n",
       "    .dataframe thead th {\n",
       "        text-align: right;\n",
       "    }\n",
       "</style>\n",
       "<table border=\"1\" class=\"dataframe\">\n",
       "  <thead>\n",
       "    <tr style=\"text-align: right;\">\n",
       "      <th></th>\n",
       "      <th>account_id</th>\n",
       "      <th>connector_config_id</th>\n",
       "      <th>channel_id</th>\n",
       "      <th>date_key</th>\n",
       "      <th>dc_id</th>\n",
       "      <th>is_first_purchase</th>\n",
       "      <th>product_id</th>\n",
       "      <th>sales_amount</th>\n",
       "      <th>sales_id</th>\n",
       "      <th>sales_quantity</th>\n",
       "      <th>store_id</th>\n",
       "      <th>uom_id</th>\n",
       "      <th>whole_sale_price</th>\n",
       "    </tr>\n",
       "  </thead>\n",
       "  <tbody>\n",
       "    <tr>\n",
       "      <th>0</th>\n",
       "      <td>80548</td>\n",
       "      <td>82</td>\n",
       "      <td>9221995035584428660</td>\n",
       "      <td>2020-04-05</td>\n",
       "      <td>3475258104728469248</td>\n",
       "      <td>False</td>\n",
       "      <td>4001433058368439128</td>\n",
       "      <td>39.83</td>\n",
       "      <td>2016740781568767598</td>\n",
       "      <td>2.0</td>\n",
       "      <td>3775738315386423810</td>\n",
       "      <td>7490622694260177996</td>\n",
       "      <td>71.10</td>\n",
       "    </tr>\n",
       "    <tr>\n",
       "      <th>1</th>\n",
       "      <td>80548</td>\n",
       "      <td>82</td>\n",
       "      <td>9221995035584428660</td>\n",
       "      <td>2020-05-03</td>\n",
       "      <td>3475258104728469248</td>\n",
       "      <td>False</td>\n",
       "      <td>4065777199066685072</td>\n",
       "      <td>40.16</td>\n",
       "      <td>8418246900861692640</td>\n",
       "      <td>2.0</td>\n",
       "      <td>3775738315386423810</td>\n",
       "      <td>7490622694260177996</td>\n",
       "      <td>69.76</td>\n",
       "    </tr>\n",
       "    <tr>\n",
       "      <th>2</th>\n",
       "      <td>80548</td>\n",
       "      <td>82</td>\n",
       "      <td>9221995035584428660</td>\n",
       "      <td>2020-03-08</td>\n",
       "      <td>3475258104728469248</td>\n",
       "      <td>False</td>\n",
       "      <td>6079228713510413679</td>\n",
       "      <td>23.75</td>\n",
       "      <td>8084158043312151039</td>\n",
       "      <td>2.0</td>\n",
       "      <td>3775738315386423810</td>\n",
       "      <td>7490622694260177996</td>\n",
       "      <td>42.38</td>\n",
       "    </tr>\n",
       "    <tr>\n",
       "      <th>3</th>\n",
       "      <td>80548</td>\n",
       "      <td>82</td>\n",
       "      <td>9221995035584428660</td>\n",
       "      <td>2020-03-01</td>\n",
       "      <td>3475258104728469248</td>\n",
       "      <td>True</td>\n",
       "      <td>2882915166545356769</td>\n",
       "      <td>39.83</td>\n",
       "      <td>2564654221828368863</td>\n",
       "      <td>2.0</td>\n",
       "      <td>3775738315386423810</td>\n",
       "      <td>7490622694260177996</td>\n",
       "      <td>71.10</td>\n",
       "    </tr>\n",
       "    <tr>\n",
       "      <th>4</th>\n",
       "      <td>80548</td>\n",
       "      <td>82</td>\n",
       "      <td>9221995035584428660</td>\n",
       "      <td>2020-06-07</td>\n",
       "      <td>3475258104728469248</td>\n",
       "      <td>False</td>\n",
       "      <td>7005387553611591933</td>\n",
       "      <td>32.66</td>\n",
       "      <td>2782437254778047654</td>\n",
       "      <td>2.0</td>\n",
       "      <td>3775738315386423810</td>\n",
       "      <td>7490622694260177996</td>\n",
       "      <td>58.47</td>\n",
       "    </tr>\n",
       "    <tr>\n",
       "      <th>5</th>\n",
       "      <td>80548</td>\n",
       "      <td>82</td>\n",
       "      <td>9221995035584428660</td>\n",
       "      <td>2020-03-08</td>\n",
       "      <td>3475258104728469248</td>\n",
       "      <td>False</td>\n",
       "      <td>4065777199066685072</td>\n",
       "      <td>40.16</td>\n",
       "      <td>7749986086792519715</td>\n",
       "      <td>2.0</td>\n",
       "      <td>3775738315386423810</td>\n",
       "      <td>7490622694260177996</td>\n",
       "      <td>69.76</td>\n",
       "    </tr>\n",
       "    <tr>\n",
       "      <th>6</th>\n",
       "      <td>80548</td>\n",
       "      <td>82</td>\n",
       "      <td>6783875957240731496</td>\n",
       "      <td>2020-08-02</td>\n",
       "      <td>3475258104728469248</td>\n",
       "      <td>False</td>\n",
       "      <td>6079228713510413679</td>\n",
       "      <td>36.93</td>\n",
       "      <td>5560291402395423046</td>\n",
       "      <td>2.0</td>\n",
       "      <td>4143340026718314243</td>\n",
       "      <td>7490622694260177996</td>\n",
       "      <td>42.38</td>\n",
       "    </tr>\n",
       "    <tr>\n",
       "      <th>7</th>\n",
       "      <td>80548</td>\n",
       "      <td>82</td>\n",
       "      <td>6783875957240731496</td>\n",
       "      <td>2020-05-10</td>\n",
       "      <td>3475258104728469248</td>\n",
       "      <td>False</td>\n",
       "      <td>6079228713510413679</td>\n",
       "      <td>40.95</td>\n",
       "      <td>9065978831707661471</td>\n",
       "      <td>2.0</td>\n",
       "      <td>3651889994219835910</td>\n",
       "      <td>7490622694260177996</td>\n",
       "      <td>42.38</td>\n",
       "    </tr>\n",
       "    <tr>\n",
       "      <th>8</th>\n",
       "      <td>80548</td>\n",
       "      <td>82</td>\n",
       "      <td>8802252399211565501</td>\n",
       "      <td>2020-04-05</td>\n",
       "      <td>3475258104728469248</td>\n",
       "      <td>False</td>\n",
       "      <td>6079228713510413679</td>\n",
       "      <td>28.89</td>\n",
       "      <td>4385233044043201791</td>\n",
       "      <td>2.0</td>\n",
       "      <td>8158541374731853063</td>\n",
       "      <td>7490622694260177996</td>\n",
       "      <td>42.38</td>\n",
       "    </tr>\n",
       "    <tr>\n",
       "      <th>9</th>\n",
       "      <td>80548</td>\n",
       "      <td>82</td>\n",
       "      <td>8802252399211565501</td>\n",
       "      <td>2020-03-08</td>\n",
       "      <td>3475258104728469248</td>\n",
       "      <td>True</td>\n",
       "      <td>6079228713510413679</td>\n",
       "      <td>34.48</td>\n",
       "      <td>8547972509903588845</td>\n",
       "      <td>2.0</td>\n",
       "      <td>8158541374731853063</td>\n",
       "      <td>7490622694260177996</td>\n",
       "      <td>42.38</td>\n",
       "    </tr>\n",
       "  </tbody>\n",
       "</table>\n",
       "</div>"
      ]
     },
     "metadata": {},
     "output_type": "display_data"
    }
   ],
   "execution_count": 5
  },
  {
   "metadata": {},
   "cell_type": "markdown",
   "source": "## Save DataFrame to table"
  },
  {
   "metadata": {
    "ExecuteTime": {
     "end_time": "2024-12-03T11:15:03.588658Z",
     "start_time": "2024-12-03T11:14:56.407611Z"
    }
   },
   "cell_type": "code",
   "source": [
    "%%save {project}.{dataset}.normalized_unfi_fact_sales_sample\n",
    "df"
   ],
   "outputs": [],
   "execution_count": 6
  },
  {
   "metadata": {},
   "cell_type": "markdown",
   "source": "## Save query results to table"
  },
  {
   "metadata": {
    "ExecuteTime": {
     "end_time": "2024-12-03T11:15:09.662405Z",
     "start_time": "2024-12-03T11:15:03.599394Z"
    }
   },
   "cell_type": "code",
   "source": [
    "%%save {project}.{dataset}.normalized_unfi_fact_sales_sample2\n",
    "SELECT * FROM `{project}`.`{dataset}`.`normalized_unfi_fact_sales` LIMIT 10"
   ],
   "outputs": [],
   "execution_count": 7
  }
 ],
 "metadata": {
  "application/vnd.databricks.v1+notebook": {
   "dashboards": [],
   "environmentMetadata": null,
   "language": "python",
   "notebookMetadata": {
    "pythonIndentUnit": 4
   },
   "notebookName": "crisp_basics",
   "widgets": {}
  },
  "kernelspec": {
   "display_name": "Python 3",
   "language": "python",
   "name": "python3"
  },
  "language_info": {
   "codemirror_mode": {
    "name": "ipython",
    "version": 3
   },
   "file_extension": ".py",
   "mimetype": "text/x-python",
   "name": "python",
   "nbconvert_exporter": "python",
   "pygments_lexer": "ipython3",
   "version": "3.6.4"
  }
 },
 "nbformat": 4,
 "nbformat_minor": 0
}
