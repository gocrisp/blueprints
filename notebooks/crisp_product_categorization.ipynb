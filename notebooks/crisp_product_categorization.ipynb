{
 "cells": [
  {
   "cell_type": "markdown",
   "id": "ca34350813b6edfd",
   "metadata": {},
   "source": [
    "\n",
    "![Crisp](img/logo.png)\n",
    "# AI-Powered Product Categorization\n",
    "\n",
    "[![Open in Colab](https://img.shields.io/badge/Open%20in-Colab-orange?logo=google-colab&style=for-the-badge)](https://colab.research.google.com/github/gocrisp/blueprints/blob/main/notebooks/crisp_product_categorization.ipynb)\n",
    "[![Open in Vertex AI](https://img.shields.io/badge/Open%20in-Vertex%20AI%20Workbench-brightgreen?logo=google-cloud&style=for-the-badge)](https://console.cloud.google.com/vertex-ai/notebooks/deploy-notebook?download_url=https://raw.githubusercontent.com/gocrisp/blueprints/main/notebooks/crisp_product_categorization.ipynb)\n",
    "[![Open in Databricks](https://img.shields.io/badge/Try-databricks-red?logo=databricks&style=for-the-badge)](https://www.databricks.com/try-databricks)\n",
    "[![View on GitHub](https://img.shields.io/badge/View%20on-GitHub-lightgrey?logo=github&style=for-the-badge)](https://github.com/gocrisp/blueprints/blob/main/notebooks/crisp_product_categorization.ipynb)\n",
    "\n",
    "> To deploy a notebook in Databricks:\n",
    "> 1. Open your workspace and navigate to the folder where you want to import the notebook.\n",
    "> 2. Click the triple-dot icon (next to the Share button).\n",
    "> 3. Select Import and choose URL as the import method.\n",
    "> 4. Paste the notebook's URL and click Import to complete the process.\n",
    "\n",
    "This notebook helps you check that products are categorized accurately by using a large language model (LLM) to predict the most appropriate category for each product. If the predicted category differs from the existing one, the product is flagged for review."
   ]
  },
  {
   "cell_type": "markdown",
   "id": "f8ae1feacc70e19a",
   "metadata": {},
   "source": [
    "## Set the required environment variables\n",
    "We will save your account ID in the notebook, so it can be used later when accessing your account data."
   ]
  },
  {
   "cell_type": "code",
   "id": "34a89bd198f1da9",
   "metadata": {
    "ExecuteTime": {
     "end_time": "2025-01-29T16:43:49.953956Z",
     "start_time": "2025-01-29T16:43:49.952349Z"
    }
   },
   "source": [
    "import os\n",
    "\n",
    "os.environ[\"ACCOUNT_ID\"] = \"999999\"\n",
    "# os.environ[\"OPENAI_API_KEY\"] = \"\""
   ],
   "outputs": [],
   "execution_count": 1
  },
  {
   "cell_type": "markdown",
   "id": "f4c417d9e283b62d",
   "metadata": {},
   "source": [
    "## Run Crisp common\n",
    "\n",
    "This notebook uses the [crisp_common.ipynb](./crisp_common.ipynb) notebook to load common functions and variables that are used across the Crisp notebooks."
   ]
  },
  {
   "cell_type": "code",
   "id": "8e3df4d423fe876d",
   "metadata": {},
   "source": [
    "if not os.path.exists(\"crisp_common.ipynb\"):\n",
    "    print(\"Downloading crisp_common.ipynb\")\n",
    "    !wget https://raw.githubusercontent.com/gocrisp/blueprints/main/notebooks/crisp_common.ipynb -O crisp_common.ipynb\n",
    "else:\n",
    "    print(\"crisp_common.ipynb already exists\")\n",
    "\n",
    "%run crisp_common.ipynb"
   ],
   "outputs": [],
   "execution_count": null
  },
  {
   "metadata": {},
   "cell_type": "markdown",
   "source": [
    "## Import dependencies\n",
    "We will import necessary libraries, so we can utilize prompt templates, LLM models, and Pydantic for data validation and structure."
   ],
   "id": "8a2221a63fab95d1"
  },
  {
   "metadata": {
    "ExecuteTime": {
     "end_time": "2025-01-29T16:44:03.913116Z",
     "start_time": "2025-01-29T16:44:03.162778Z"
    }
   },
   "cell_type": "code",
   "source": [
    "from langchain_core.prompts import PromptTemplate\n",
    "from langchain_openai import ChatOpenAI\n",
    "\n",
    "from pydantic import BaseModel\n",
    "from enum import Enum"
   ],
   "id": "54395a1e94ab2e8c",
   "outputs": [],
   "execution_count": 3
  },
  {
   "metadata": {},
   "cell_type": "markdown",
   "source": [
    "## Load the product categories\n",
    "We will query the database to load distinct product categories and subcategories, so we can create a mapping of category hierarchy for later use in the LLM."
   ],
   "id": "b5f50c9ff873b6d0"
  },
  {
   "metadata": {
    "ExecuteTime": {
     "end_time": "2025-01-29T16:44:08.119510Z",
     "start_time": "2025-01-29T16:44:03.917962Z"
    }
   },
   "cell_type": "code",
   "source": [
    "%%load product_categories_df\n",
    "SELECT DISTINCT  product_category, product_sub_category, product_category || ' >>> ' || product_sub_category AS category\n",
    "FROM `{project}`.`{dataset}`.`exp_harmonized_retailer_dim_product`"
   ],
   "id": "368bc6b557225dbc",
   "outputs": [],
   "execution_count": 4
  },
  {
   "metadata": {
    "ExecuteTime": {
     "end_time": "2025-01-29T16:44:08.138380Z",
     "start_time": "2025-01-29T16:44:08.131225Z"
    }
   },
   "cell_type": "code",
   "source": "product_categories_df",
   "id": "857a2e83b1fb799a",
   "outputs": [
    {
     "data": {
      "text/plain": [
       "   product_category product_sub_category                             category\n",
       "0         Computers              Laptops                Computers >>> Laptops\n",
       "1         Wearables            Wearables              Wearables >>> Wearables\n",
       "2        TV & Audio                  TVs                   TV & Audio >>> TVs\n",
       "3        TV & Audio            Soundbars             TV & Audio >>> Soundbars\n",
       "4       Accessories               Cables               Accessories >>> Cables\n",
       "5   Home Appliances      Home Appliances  Home Appliances >>> Home Appliances\n",
       "6  Phones & Tablets          Smartphones     Phones & Tablets >>> Smartphones\n",
       "7  Phones & Tablets              Tablets         Phones & Tablets >>> Tablets"
      ],
      "text/html": [
       "<div>\n",
       "<style scoped>\n",
       "    .dataframe tbody tr th:only-of-type {\n",
       "        vertical-align: middle;\n",
       "    }\n",
       "\n",
       "    .dataframe tbody tr th {\n",
       "        vertical-align: top;\n",
       "    }\n",
       "\n",
       "    .dataframe thead th {\n",
       "        text-align: right;\n",
       "    }\n",
       "</style>\n",
       "<table border=\"1\" class=\"dataframe\">\n",
       "  <thead>\n",
       "    <tr style=\"text-align: right;\">\n",
       "      <th></th>\n",
       "      <th>product_category</th>\n",
       "      <th>product_sub_category</th>\n",
       "      <th>category</th>\n",
       "    </tr>\n",
       "  </thead>\n",
       "  <tbody>\n",
       "    <tr>\n",
       "      <th>0</th>\n",
       "      <td>Computers</td>\n",
       "      <td>Laptops</td>\n",
       "      <td>Computers &gt;&gt;&gt; Laptops</td>\n",
       "    </tr>\n",
       "    <tr>\n",
       "      <th>1</th>\n",
       "      <td>Wearables</td>\n",
       "      <td>Wearables</td>\n",
       "      <td>Wearables &gt;&gt;&gt; Wearables</td>\n",
       "    </tr>\n",
       "    <tr>\n",
       "      <th>2</th>\n",
       "      <td>TV &amp; Audio</td>\n",
       "      <td>TVs</td>\n",
       "      <td>TV &amp; Audio &gt;&gt;&gt; TVs</td>\n",
       "    </tr>\n",
       "    <tr>\n",
       "      <th>3</th>\n",
       "      <td>TV &amp; Audio</td>\n",
       "      <td>Soundbars</td>\n",
       "      <td>TV &amp; Audio &gt;&gt;&gt; Soundbars</td>\n",
       "    </tr>\n",
       "    <tr>\n",
       "      <th>4</th>\n",
       "      <td>Accessories</td>\n",
       "      <td>Cables</td>\n",
       "      <td>Accessories &gt;&gt;&gt; Cables</td>\n",
       "    </tr>\n",
       "    <tr>\n",
       "      <th>5</th>\n",
       "      <td>Home Appliances</td>\n",
       "      <td>Home Appliances</td>\n",
       "      <td>Home Appliances &gt;&gt;&gt; Home Appliances</td>\n",
       "    </tr>\n",
       "    <tr>\n",
       "      <th>6</th>\n",
       "      <td>Phones &amp; Tablets</td>\n",
       "      <td>Smartphones</td>\n",
       "      <td>Phones &amp; Tablets &gt;&gt;&gt; Smartphones</td>\n",
       "    </tr>\n",
       "    <tr>\n",
       "      <th>7</th>\n",
       "      <td>Phones &amp; Tablets</td>\n",
       "      <td>Tablets</td>\n",
       "      <td>Phones &amp; Tablets &gt;&gt;&gt; Tablets</td>\n",
       "    </tr>\n",
       "  </tbody>\n",
       "</table>\n",
       "</div>"
      ]
     },
     "execution_count": 5,
     "metadata": {},
     "output_type": "execute_result"
    }
   ],
   "execution_count": 5
  },
  {
   "metadata": {},
   "cell_type": "markdown",
   "source": [
    "## Create a Pydantic model that holds category taxonomy\n",
    "We will use a Pydantic model to define the allowed product categories, then apply it to our product data to ensure each item is assigned a valid category."
   ],
   "id": "8b041251fd27d5da"
  },
  {
   "metadata": {
    "ExecuteTime": {
     "end_time": "2025-01-29T16:44:08.174332Z",
     "start_time": "2025-01-29T16:44:08.169834Z"
    }
   },
   "cell_type": "code",
   "source": [
    "CategoryEnum = Enum(\n",
    "    \"CategoryEnum\",\n",
    "    {category: category for category in product_categories_df[\"category\"].unique()},\n",
    ")\n",
    "\n",
    "\n",
    "class ProductAttributes(BaseModel):\n",
    "    category: CategoryEnum\n",
    "\n",
    "    def product_category(self):\n",
    "        return self.category.__str__().replace(\"CategoryEnum.\", \"\").split(\" >>> \")[0]\n",
    "\n",
    "    def product_sub_category(self):\n",
    "        return self.category.__str__().split(\" >>> \")[1]"
   ],
   "id": "3190e09999eaef4b",
   "outputs": [],
   "execution_count": 6
  },
  {
   "metadata": {
    "ExecuteTime": {
     "end_time": "2025-01-28T16:54:35.188390Z",
     "start_time": "2025-01-28T16:54:35.184809Z"
    }
   },
   "cell_type": "markdown",
   "source": [
    "## Create the LLM processing chain\n",
    "We will set up an LLM (ChatOpenAI) with a prompt template that guides the model to analyze the existing product categorization and determine the most appropriate categories."
   ],
   "id": "a95c464c088d0325"
  },
  {
   "metadata": {
    "ExecuteTime": {
     "end_time": "2025-01-29T16:44:08.225172Z",
     "start_time": "2025-01-29T16:44:08.198502Z"
    }
   },
   "cell_type": "code",
   "source": [
    "model = ChatOpenAI(model_name=\"gpt-4o-mini\", temperature=0.0)\n",
    "\n",
    "prompt = PromptTemplate(\n",
    "    template=\"\"\"\n",
    "### Instruction:\n",
    "You are an expert in CPG (Consumer Packaged Goods) and retail product categorization. Please determine the most appropriate product category for the given information.\n",
    "\n",
    "### Input:\n",
    "Product: {product}\n",
    "\n",
    "### Output:\n",
    "Provide the correct product category that follows the structured output format.\n",
    "    \"\"\",\n",
    "    input_variables=[\"product\"],\n",
    ")\n",
    "\n",
    "structured_model = model.with_structured_output(ProductAttributes)\n",
    "\n",
    "chain = prompt | structured_model"
   ],
   "id": "46108476e7c26b0",
   "outputs": [],
   "execution_count": 7
  },
  {
   "metadata": {},
   "cell_type": "markdown",
   "source": [
    "## Load product data\n",
    "We will query the database to retrieve the full list of products, so we can use the model to check if each product is correctly categorized."
   ],
   "id": "95e2d51bc4dddd87"
  },
  {
   "metadata": {
    "ExecuteTime": {
     "end_time": "2025-01-29T16:44:12.090251Z",
     "start_time": "2025-01-29T16:44:08.245385Z"
    }
   },
   "cell_type": "code",
   "source": [
    "%%load products_df\n",
    "SELECT *\n",
    "FROM `{project}`.`{dataset}`.`exp_harmonized_retailer_dim_product`"
   ],
   "id": "2a333a7d9305a300",
   "outputs": [],
   "execution_count": 8
  },
  {
   "metadata": {
    "ExecuteTime": {
     "end_time": "2025-01-29T16:44:12.116863Z",
     "start_time": "2025-01-29T16:44:12.109283Z"
    }
   },
   "cell_type": "code",
   "source": "products_df",
   "id": "aff5f0543d621d8f",
   "outputs": [
    {
     "data": {
      "text/plain": [
       "    product_id            product  product_category product_sub_category  \\\n",
       "0          121   LunaBook Horizon         Computers              Laptops   \n",
       "1          122     LunaTech Focus         Computers              Laptops   \n",
       "2          123     LunaTech Ultra         Computers              Laptops   \n",
       "3          124       LunaBook Max         Computers              Laptops   \n",
       "4          125     LunaTech Gamma         Computers              Laptops   \n",
       "..         ...                ...               ...                  ...   \n",
       "75         116          LunaTab X  Phones & Tablets              Tablets   \n",
       "76         117       LunaTech Pad  Phones & Tablets              Tablets   \n",
       "77         118        LunaTab Max  Phones & Tablets              Tablets   \n",
       "78         120       LunaTab Lite  Phones & Tablets              Tablets   \n",
       "79         130  LunaBook Infinity  Phones & Tablets              Tablets   \n",
       "\n",
       "   retailer  \n",
       "0    target  \n",
       "1    target  \n",
       "2    target  \n",
       "3    target  \n",
       "4    target  \n",
       "..      ...  \n",
       "75   target  \n",
       "76   target  \n",
       "77   target  \n",
       "78   target  \n",
       "79   target  \n",
       "\n",
       "[80 rows x 5 columns]"
      ],
      "text/html": [
       "<div>\n",
       "<style scoped>\n",
       "    .dataframe tbody tr th:only-of-type {\n",
       "        vertical-align: middle;\n",
       "    }\n",
       "\n",
       "    .dataframe tbody tr th {\n",
       "        vertical-align: top;\n",
       "    }\n",
       "\n",
       "    .dataframe thead th {\n",
       "        text-align: right;\n",
       "    }\n",
       "</style>\n",
       "<table border=\"1\" class=\"dataframe\">\n",
       "  <thead>\n",
       "    <tr style=\"text-align: right;\">\n",
       "      <th></th>\n",
       "      <th>product_id</th>\n",
       "      <th>product</th>\n",
       "      <th>product_category</th>\n",
       "      <th>product_sub_category</th>\n",
       "      <th>retailer</th>\n",
       "    </tr>\n",
       "  </thead>\n",
       "  <tbody>\n",
       "    <tr>\n",
       "      <th>0</th>\n",
       "      <td>121</td>\n",
       "      <td>LunaBook Horizon</td>\n",
       "      <td>Computers</td>\n",
       "      <td>Laptops</td>\n",
       "      <td>target</td>\n",
       "    </tr>\n",
       "    <tr>\n",
       "      <th>1</th>\n",
       "      <td>122</td>\n",
       "      <td>LunaTech Focus</td>\n",
       "      <td>Computers</td>\n",
       "      <td>Laptops</td>\n",
       "      <td>target</td>\n",
       "    </tr>\n",
       "    <tr>\n",
       "      <th>2</th>\n",
       "      <td>123</td>\n",
       "      <td>LunaTech Ultra</td>\n",
       "      <td>Computers</td>\n",
       "      <td>Laptops</td>\n",
       "      <td>target</td>\n",
       "    </tr>\n",
       "    <tr>\n",
       "      <th>3</th>\n",
       "      <td>124</td>\n",
       "      <td>LunaBook Max</td>\n",
       "      <td>Computers</td>\n",
       "      <td>Laptops</td>\n",
       "      <td>target</td>\n",
       "    </tr>\n",
       "    <tr>\n",
       "      <th>4</th>\n",
       "      <td>125</td>\n",
       "      <td>LunaTech Gamma</td>\n",
       "      <td>Computers</td>\n",
       "      <td>Laptops</td>\n",
       "      <td>target</td>\n",
       "    </tr>\n",
       "    <tr>\n",
       "      <th>...</th>\n",
       "      <td>...</td>\n",
       "      <td>...</td>\n",
       "      <td>...</td>\n",
       "      <td>...</td>\n",
       "      <td>...</td>\n",
       "    </tr>\n",
       "    <tr>\n",
       "      <th>75</th>\n",
       "      <td>116</td>\n",
       "      <td>LunaTab X</td>\n",
       "      <td>Phones &amp; Tablets</td>\n",
       "      <td>Tablets</td>\n",
       "      <td>target</td>\n",
       "    </tr>\n",
       "    <tr>\n",
       "      <th>76</th>\n",
       "      <td>117</td>\n",
       "      <td>LunaTech Pad</td>\n",
       "      <td>Phones &amp; Tablets</td>\n",
       "      <td>Tablets</td>\n",
       "      <td>target</td>\n",
       "    </tr>\n",
       "    <tr>\n",
       "      <th>77</th>\n",
       "      <td>118</td>\n",
       "      <td>LunaTab Max</td>\n",
       "      <td>Phones &amp; Tablets</td>\n",
       "      <td>Tablets</td>\n",
       "      <td>target</td>\n",
       "    </tr>\n",
       "    <tr>\n",
       "      <th>78</th>\n",
       "      <td>120</td>\n",
       "      <td>LunaTab Lite</td>\n",
       "      <td>Phones &amp; Tablets</td>\n",
       "      <td>Tablets</td>\n",
       "      <td>target</td>\n",
       "    </tr>\n",
       "    <tr>\n",
       "      <th>79</th>\n",
       "      <td>130</td>\n",
       "      <td>LunaBook Infinity</td>\n",
       "      <td>Phones &amp; Tablets</td>\n",
       "      <td>Tablets</td>\n",
       "      <td>target</td>\n",
       "    </tr>\n",
       "  </tbody>\n",
       "</table>\n",
       "<p>80 rows × 5 columns</p>\n",
       "</div>"
      ]
     },
     "execution_count": 9,
     "metadata": {},
     "output_type": "execute_result"
    }
   ],
   "execution_count": 9
  },
  {
   "metadata": {},
   "cell_type": "markdown",
   "source": [
    "## Get the new categories\n",
    "We will check if any of the categories suggested by the LLM are different from the existing ones, then update the product data with the new categories."
   ],
   "id": "a2fe1770f448dca1"
  },
  {
   "metadata": {
    "ExecuteTime": {
     "end_time": "2025-01-29T16:45:19.112200Z",
     "start_time": "2025-01-29T16:44:12.154895Z"
    }
   },
   "cell_type": "code",
   "source": [
    "if \"product_category_new\" not in products_df.columns:\n",
    "    products_df[\"product_category_new\"] = None\n",
    "if \"product_sub_category_new\" not in products_df.columns:\n",
    "    products_df[\"product_sub_category_new\"] = None\n",
    "\n",
    "for index, row in products_df.iterrows():\n",
    "    output = chain.invoke({\"product\": row.product})\n",
    "    products_df.loc[index, \"product_category_new\"] = output.product_category()\n",
    "    products_df.loc[index, \"product_sub_category_new\"] = output.product_sub_category()\n",
    "\n",
    "products_df[\"changed\"] = (\n",
    "    products_df[\"product_sub_category\"] != products_df[\"product_sub_category_new\"]\n",
    ") | (products_df[\"product_category\"] != products_df[\"product_category_new\"])\n",
    "\n",
    "products_df.describe(include=[bool])"
   ],
   "id": "bcf263620716392e",
   "outputs": [
    {
     "data": {
      "text/plain": [
       "       changed\n",
       "count       80\n",
       "unique       2\n",
       "top      False\n",
       "freq        77"
      ],
      "text/html": [
       "<div>\n",
       "<style scoped>\n",
       "    .dataframe tbody tr th:only-of-type {\n",
       "        vertical-align: middle;\n",
       "    }\n",
       "\n",
       "    .dataframe tbody tr th {\n",
       "        vertical-align: top;\n",
       "    }\n",
       "\n",
       "    .dataframe thead th {\n",
       "        text-align: right;\n",
       "    }\n",
       "</style>\n",
       "<table border=\"1\" class=\"dataframe\">\n",
       "  <thead>\n",
       "    <tr style=\"text-align: right;\">\n",
       "      <th></th>\n",
       "      <th>changed</th>\n",
       "    </tr>\n",
       "  </thead>\n",
       "  <tbody>\n",
       "    <tr>\n",
       "      <th>count</th>\n",
       "      <td>80</td>\n",
       "    </tr>\n",
       "    <tr>\n",
       "      <th>unique</th>\n",
       "      <td>2</td>\n",
       "    </tr>\n",
       "    <tr>\n",
       "      <th>top</th>\n",
       "      <td>False</td>\n",
       "    </tr>\n",
       "    <tr>\n",
       "      <th>freq</th>\n",
       "      <td>77</td>\n",
       "    </tr>\n",
       "  </tbody>\n",
       "</table>\n",
       "</div>"
      ]
     },
     "execution_count": 10,
     "metadata": {},
     "output_type": "execute_result"
    }
   ],
   "execution_count": 10
  },
  {
   "metadata": {},
   "cell_type": "markdown",
   "source": [
    "## Identify products with changed categories\n",
    "We will filter the dataset to identify products whose categories have changed, so we can review them and determine which products need category corrections based on the model's output."
   ],
   "id": "7c8e95ebf7f72113"
  },
  {
   "metadata": {
    "ExecuteTime": {
     "end_time": "2025-01-29T16:45:19.167679Z",
     "start_time": "2025-01-29T16:45:19.157801Z"
    }
   },
   "cell_type": "code",
   "source": "products_df[products_df[\"changed\"] == True]",
   "id": "5c495f88f52aedd5",
   "outputs": [
    {
     "data": {
      "text/plain": [
       "    product_id                product product_category product_sub_category  \\\n",
       "8          147        LunaSoundBar Go        Computers              Laptops   \n",
       "17         166      DisplayPort Cable        Wearables            Wearables   \n",
       "18         175  LunaTech Coffee Maker        Wearables            Wearables   \n",
       "\n",
       "   retailer product_category_new product_sub_category_new  changed  \n",
       "8    target           TV & Audio                Soundbars     True  \n",
       "17   target          Accessories                   Cables     True  \n",
       "18   target      Home Appliances          Home Appliances     True  "
      ],
      "text/html": [
       "<div>\n",
       "<style scoped>\n",
       "    .dataframe tbody tr th:only-of-type {\n",
       "        vertical-align: middle;\n",
       "    }\n",
       "\n",
       "    .dataframe tbody tr th {\n",
       "        vertical-align: top;\n",
       "    }\n",
       "\n",
       "    .dataframe thead th {\n",
       "        text-align: right;\n",
       "    }\n",
       "</style>\n",
       "<table border=\"1\" class=\"dataframe\">\n",
       "  <thead>\n",
       "    <tr style=\"text-align: right;\">\n",
       "      <th></th>\n",
       "      <th>product_id</th>\n",
       "      <th>product</th>\n",
       "      <th>product_category</th>\n",
       "      <th>product_sub_category</th>\n",
       "      <th>retailer</th>\n",
       "      <th>product_category_new</th>\n",
       "      <th>product_sub_category_new</th>\n",
       "      <th>changed</th>\n",
       "    </tr>\n",
       "  </thead>\n",
       "  <tbody>\n",
       "    <tr>\n",
       "      <th>8</th>\n",
       "      <td>147</td>\n",
       "      <td>LunaSoundBar Go</td>\n",
       "      <td>Computers</td>\n",
       "      <td>Laptops</td>\n",
       "      <td>target</td>\n",
       "      <td>TV &amp; Audio</td>\n",
       "      <td>Soundbars</td>\n",
       "      <td>True</td>\n",
       "    </tr>\n",
       "    <tr>\n",
       "      <th>17</th>\n",
       "      <td>166</td>\n",
       "      <td>DisplayPort Cable</td>\n",
       "      <td>Wearables</td>\n",
       "      <td>Wearables</td>\n",
       "      <td>target</td>\n",
       "      <td>Accessories</td>\n",
       "      <td>Cables</td>\n",
       "      <td>True</td>\n",
       "    </tr>\n",
       "    <tr>\n",
       "      <th>18</th>\n",
       "      <td>175</td>\n",
       "      <td>LunaTech Coffee Maker</td>\n",
       "      <td>Wearables</td>\n",
       "      <td>Wearables</td>\n",
       "      <td>target</td>\n",
       "      <td>Home Appliances</td>\n",
       "      <td>Home Appliances</td>\n",
       "      <td>True</td>\n",
       "    </tr>\n",
       "  </tbody>\n",
       "</table>\n",
       "</div>"
      ]
     },
     "execution_count": 11,
     "metadata": {},
     "output_type": "execute_result"
    }
   ],
   "execution_count": 11
  }
 ],
 "metadata": {
  "language_info": {
   "name": "python"
  },
  "kernelspec": {
   "name": "python3",
   "language": "python",
   "display_name": "Python 3 (ipykernel)"
  }
 },
 "nbformat": 4,
 "nbformat_minor": 5
}
